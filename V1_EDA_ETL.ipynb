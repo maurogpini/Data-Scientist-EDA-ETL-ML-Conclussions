{
 "cells": [
  {
   "attachments": {},
   "cell_type": "markdown",
   "metadata": {},
   "source": [
    "                        # EDA y ETL"
   ]
  },
  {
   "attachments": {},
   "cell_type": "markdown",
   "metadata": {},
   "source": [
    "### INGESTA DE DATOS y ANÁLISIS EXPLORATORIO INICIAL"
   ]
  },
  {
   "cell_type": "code",
   "execution_count": 126,
   "metadata": {},
   "outputs": [],
   "source": [
    "import pandas as pd\n",
    "import numpy as np\n",
    "import matplotlib.pyplot as plt\n",
    "import seaborn as sns"
   ]
  },
  {
   "cell_type": "code",
   "execution_count": 127,
   "metadata": {},
   "outputs": [],
   "source": [
    "train = pd.read_parquet('train.parquet')\n",
    "test = pd.read_parquet(\"test.parquet\")"
   ]
  },
  {
   "cell_type": "code",
   "execution_count": 128,
   "metadata": {},
   "outputs": [
    {
     "data": {
      "text/html": [
       "<div>\n",
       "<style scoped>\n",
       "    .dataframe tbody tr th:only-of-type {\n",
       "        vertical-align: middle;\n",
       "    }\n",
       "\n",
       "    .dataframe tbody tr th {\n",
       "        vertical-align: top;\n",
       "    }\n",
       "\n",
       "    .dataframe thead th {\n",
       "        text-align: right;\n",
       "    }\n",
       "</style>\n",
       "<table border=\"1\" class=\"dataframe\">\n",
       "  <thead>\n",
       "    <tr style=\"text-align: right;\">\n",
       "      <th></th>\n",
       "      <th>id</th>\n",
       "      <th>price</th>\n",
       "      <th>sqfeet</th>\n",
       "      <th>beds</th>\n",
       "      <th>baths</th>\n",
       "      <th>cats_allowed</th>\n",
       "      <th>dogs_allowed</th>\n",
       "      <th>smoking_allowed</th>\n",
       "      <th>wheelchair_access</th>\n",
       "      <th>electric_vehicle_charge</th>\n",
       "      <th>comes_furnished</th>\n",
       "      <th>lat</th>\n",
       "      <th>long</th>\n",
       "    </tr>\n",
       "  </thead>\n",
       "  <tbody>\n",
       "    <tr>\n",
       "      <th>count</th>\n",
       "      <td>3.464790e+05</td>\n",
       "      <td>3.464790e+05</td>\n",
       "      <td>3.464790e+05</td>\n",
       "      <td>346479.000000</td>\n",
       "      <td>346479.000000</td>\n",
       "      <td>346479.000000</td>\n",
       "      <td>346479.000000</td>\n",
       "      <td>346479.000000</td>\n",
       "      <td>346479.00000</td>\n",
       "      <td>346479.000000</td>\n",
       "      <td>346479.000000</td>\n",
       "      <td>344757.000000</td>\n",
       "      <td>344757.000000</td>\n",
       "    </tr>\n",
       "    <tr>\n",
       "      <th>mean</th>\n",
       "      <td>7.040988e+09</td>\n",
       "      <td>9.664420e+03</td>\n",
       "      <td>1.066326e+03</td>\n",
       "      <td>1.903189</td>\n",
       "      <td>1.480339</td>\n",
       "      <td>0.726803</td>\n",
       "      <td>0.707861</td>\n",
       "      <td>0.731738</td>\n",
       "      <td>0.08197</td>\n",
       "      <td>0.012792</td>\n",
       "      <td>0.048141</td>\n",
       "      <td>37.234363</td>\n",
       "      <td>-92.705415</td>\n",
       "    </tr>\n",
       "    <tr>\n",
       "      <th>std</th>\n",
       "      <td>8.802214e+06</td>\n",
       "      <td>4.703573e+06</td>\n",
       "      <td>2.018537e+04</td>\n",
       "      <td>3.162685</td>\n",
       "      <td>0.608246</td>\n",
       "      <td>0.445602</td>\n",
       "      <td>0.454746</td>\n",
       "      <td>0.443055</td>\n",
       "      <td>0.27432</td>\n",
       "      <td>0.112374</td>\n",
       "      <td>0.214065</td>\n",
       "      <td>5.550956</td>\n",
       "      <td>16.551071</td>\n",
       "    </tr>\n",
       "    <tr>\n",
       "      <th>min</th>\n",
       "      <td>7.003808e+09</td>\n",
       "      <td>0.000000e+00</td>\n",
       "      <td>0.000000e+00</td>\n",
       "      <td>0.000000</td>\n",
       "      <td>0.000000</td>\n",
       "      <td>0.000000</td>\n",
       "      <td>0.000000</td>\n",
       "      <td>0.000000</td>\n",
       "      <td>0.00000</td>\n",
       "      <td>0.000000</td>\n",
       "      <td>0.000000</td>\n",
       "      <td>-43.533300</td>\n",
       "      <td>-163.894000</td>\n",
       "    </tr>\n",
       "    <tr>\n",
       "      <th>25%</th>\n",
       "      <td>7.035988e+09</td>\n",
       "      <td>8.050000e+02</td>\n",
       "      <td>7.500000e+02</td>\n",
       "      <td>1.000000</td>\n",
       "      <td>1.000000</td>\n",
       "      <td>0.000000</td>\n",
       "      <td>0.000000</td>\n",
       "      <td>0.000000</td>\n",
       "      <td>0.00000</td>\n",
       "      <td>0.000000</td>\n",
       "      <td>0.000000</td>\n",
       "      <td>33.453100</td>\n",
       "      <td>-100.784000</td>\n",
       "    </tr>\n",
       "    <tr>\n",
       "      <th>50%</th>\n",
       "      <td>7.043325e+09</td>\n",
       "      <td>1.036000e+03</td>\n",
       "      <td>9.490000e+02</td>\n",
       "      <td>2.000000</td>\n",
       "      <td>1.000000</td>\n",
       "      <td>1.000000</td>\n",
       "      <td>1.000000</td>\n",
       "      <td>1.000000</td>\n",
       "      <td>0.00000</td>\n",
       "      <td>0.000000</td>\n",
       "      <td>0.000000</td>\n",
       "      <td>37.650100</td>\n",
       "      <td>-87.710800</td>\n",
       "    </tr>\n",
       "    <tr>\n",
       "      <th>75%</th>\n",
       "      <td>7.048431e+09</td>\n",
       "      <td>1.395000e+03</td>\n",
       "      <td>1.150000e+03</td>\n",
       "      <td>2.000000</td>\n",
       "      <td>2.000000</td>\n",
       "      <td>1.000000</td>\n",
       "      <td>1.000000</td>\n",
       "      <td>1.000000</td>\n",
       "      <td>0.00000</td>\n",
       "      <td>0.000000</td>\n",
       "      <td>0.000000</td>\n",
       "      <td>41.137900</td>\n",
       "      <td>-81.174600</td>\n",
       "    </tr>\n",
       "    <tr>\n",
       "      <th>max</th>\n",
       "      <td>7.051292e+09</td>\n",
       "      <td>2.768307e+09</td>\n",
       "      <td>8.388607e+06</td>\n",
       "      <td>1100.000000</td>\n",
       "      <td>75.000000</td>\n",
       "      <td>1.000000</td>\n",
       "      <td>1.000000</td>\n",
       "      <td>1.000000</td>\n",
       "      <td>1.00000</td>\n",
       "      <td>1.000000</td>\n",
       "      <td>1.000000</td>\n",
       "      <td>102.036000</td>\n",
       "      <td>172.633000</td>\n",
       "    </tr>\n",
       "  </tbody>\n",
       "</table>\n",
       "</div>"
      ],
      "text/plain": [
       "                 id         price        sqfeet           beds          baths  \\\n",
       "count  3.464790e+05  3.464790e+05  3.464790e+05  346479.000000  346479.000000   \n",
       "mean   7.040988e+09  9.664420e+03  1.066326e+03       1.903189       1.480339   \n",
       "std    8.802214e+06  4.703573e+06  2.018537e+04       3.162685       0.608246   \n",
       "min    7.003808e+09  0.000000e+00  0.000000e+00       0.000000       0.000000   \n",
       "25%    7.035988e+09  8.050000e+02  7.500000e+02       1.000000       1.000000   \n",
       "50%    7.043325e+09  1.036000e+03  9.490000e+02       2.000000       1.000000   \n",
       "75%    7.048431e+09  1.395000e+03  1.150000e+03       2.000000       2.000000   \n",
       "max    7.051292e+09  2.768307e+09  8.388607e+06    1100.000000      75.000000   \n",
       "\n",
       "        cats_allowed   dogs_allowed  smoking_allowed  wheelchair_access  \\\n",
       "count  346479.000000  346479.000000    346479.000000       346479.00000   \n",
       "mean        0.726803       0.707861         0.731738            0.08197   \n",
       "std         0.445602       0.454746         0.443055            0.27432   \n",
       "min         0.000000       0.000000         0.000000            0.00000   \n",
       "25%         0.000000       0.000000         0.000000            0.00000   \n",
       "50%         1.000000       1.000000         1.000000            0.00000   \n",
       "75%         1.000000       1.000000         1.000000            0.00000   \n",
       "max         1.000000       1.000000         1.000000            1.00000   \n",
       "\n",
       "       electric_vehicle_charge  comes_furnished            lat           long  \n",
       "count            346479.000000    346479.000000  344757.000000  344757.000000  \n",
       "mean                  0.012792         0.048141      37.234363     -92.705415  \n",
       "std                   0.112374         0.214065       5.550956      16.551071  \n",
       "min                   0.000000         0.000000     -43.533300    -163.894000  \n",
       "25%                   0.000000         0.000000      33.453100    -100.784000  \n",
       "50%                   0.000000         0.000000      37.650100     -87.710800  \n",
       "75%                   0.000000         0.000000      41.137900     -81.174600  \n",
       "max                   1.000000         1.000000     102.036000     172.633000  "
      ]
     },
     "execution_count": 128,
     "metadata": {},
     "output_type": "execute_result"
    }
   ],
   "source": [
    "train.describe()"
   ]
  },
  {
   "cell_type": "code",
   "execution_count": 129,
   "metadata": {},
   "outputs": [
    {
     "data": {
      "text/plain": [
       "(346479, 22)"
      ]
     },
     "execution_count": 129,
     "metadata": {},
     "output_type": "execute_result"
    }
   ],
   "source": [
    "train.shape"
   ]
  },
  {
   "attachments": {},
   "cell_type": "markdown",
   "metadata": {},
   "source": [
    "### ANÁLISIS DE DUPLICADOS"
   ]
  },
  {
   "attachments": {},
   "cell_type": "markdown",
   "metadata": {},
   "source": [
    "El rubro inmobiliario se caracteriza por una rotación lenta del inventario de una inmobiliaria, y usualmente se requieren múltiples y variadas ofertas del inmueble antes de concretar una venta. Esto me lleva a inferir exhaustivamente si existen inmuebles repetidos en el listado. \n",
    "Esto es importante porque en caso de haber repeticiones múltiples del mismo inmueble, el muestreo con el cual entrenaré mi modelo estará fuertemente sesgado."
   ]
  },
  {
   "cell_type": "code",
   "execution_count": 130,
   "metadata": {},
   "outputs": [
    {
     "data": {
      "text/plain": [
       "0"
      ]
     },
     "execution_count": 130,
     "metadata": {},
     "output_type": "execute_result"
    }
   ],
   "source": [
    "train.duplicated().sum()"
   ]
  },
  {
   "attachments": {},
   "cell_type": "markdown",
   "metadata": {},
   "source": [
    "Este resultado no es confiable, ya que sólo arrojará resultados si todas las columnas de un registro son iguales a otra."
   ]
  },
  {
   "attachments": {},
   "cell_type": "markdown",
   "metadata": {},
   "source": [
    "Buscando valores duplicados en la descripción, veo que hay muchísimos registros repetidos, ya que la descripción puede ser modificada en distintos avisos para una misma propiedad. Con esto confirmamos la hipótesis inicial que habíamos planteado al inicio de este apartado."
   ]
  },
  {
   "cell_type": "code",
   "execution_count": 131,
   "metadata": {},
   "outputs": [
    {
     "data": {
      "text/plain": [
       "91488"
      ]
     },
     "execution_count": 131,
     "metadata": {},
     "output_type": "execute_result"
    }
   ],
   "source": [
    "train.duplicated(subset = ['description']).sum()"
   ]
  },
  {
   "cell_type": "code",
   "execution_count": 132,
   "metadata": {},
   "outputs": [
    {
     "data": {
      "text/plain": [
       "0"
      ]
     },
     "execution_count": 132,
     "metadata": {},
     "output_type": "execute_result"
    }
   ],
   "source": [
    "train.duplicated(subset = ['url']).sum()"
   ]
  },
  {
   "cell_type": "code",
   "execution_count": 133,
   "metadata": {},
   "outputs": [
    {
     "data": {
      "text/plain": [
       "178233"
      ]
     },
     "execution_count": 133,
     "metadata": {},
     "output_type": "execute_result"
    }
   ],
   "source": [
    "train.duplicated(subset = ['image_url']).sum()"
   ]
  },
  {
   "attachments": {},
   "cell_type": "markdown",
   "metadata": {},
   "source": [
    "Este dato es clave. Una descripción se puede modificar, pero si remite a la misma url de la foto, hace referencia a la misma propiedad. Bajo este criterio de identificacion de duplicados, una gran parte de la muestra correspondería a propiedades repetidas."
   ]
  },
  {
   "attachments": {},
   "cell_type": "markdown",
   "metadata": {},
   "source": [
    "Voy a chequear los valores que toma la columa 'image_url'"
   ]
  },
  {
   "cell_type": "code",
   "execution_count": 134,
   "metadata": {},
   "outputs": [
    {
     "data": {
      "text/plain": [
       "https://images.craigslist.org/00R0R_ciYsssEFReq_600x450.jpg    363\n",
       "https://images.craigslist.org/00q0q_bgmgyW6dLsd_600x450.jpg    345\n",
       "https://images.craigslist.org/00X0X_XsEWPFYKuV_600x450.jpg     197\n",
       "https://images.craigslist.org/01515_6IPWDkQhlPM_600x450.jpg    196\n",
       "https://images.craigslist.org/00F0F_lD8FY29OOt4_600x450.jpg    196\n",
       "                                                              ... \n",
       "https://images.craigslist.org/00m0m_9CJQRKgOE97_600x450.jpg      1\n",
       "https://images.craigslist.org/00e0e_adxNPziRBFG_600x450.jpg      1\n",
       "https://images.craigslist.org/00w0w_5hwofMx2HD6_600x450.jpg      1\n",
       "https://images.craigslist.org/00f0f_iE2klsZWnEi_600x450.jpg      1\n",
       "https://images.craigslist.org/00w0w_7irvBxq409N_600x450.jpg      1\n",
       "Name: image_url, Length: 168246, dtype: int64"
      ]
     },
     "execution_count": 134,
     "metadata": {},
     "output_type": "execute_result"
    }
   ],
   "source": [
    "train['image_url'].value_counts()"
   ]
  },
  {
   "attachments": {},
   "cell_type": "markdown",
   "metadata": {},
   "source": [
    "Para corroborar la hipótesis de valores repetidos, voy a evaluar para el primer resultado, si existen motivos por los cuales inferir sin margen de error que se trata de la misma propiedad."
   ]
  },
  {
   "cell_type": "code",
   "execution_count": 135,
   "metadata": {},
   "outputs": [
    {
     "data": {
      "text/html": [
       "<div>\n",
       "<style scoped>\n",
       "    .dataframe tbody tr th:only-of-type {\n",
       "        vertical-align: middle;\n",
       "    }\n",
       "\n",
       "    .dataframe tbody tr th {\n",
       "        vertical-align: top;\n",
       "    }\n",
       "\n",
       "    .dataframe thead th {\n",
       "        text-align: right;\n",
       "    }\n",
       "</style>\n",
       "<table border=\"1\" class=\"dataframe\">\n",
       "  <thead>\n",
       "    <tr style=\"text-align: right;\">\n",
       "      <th></th>\n",
       "      <th>id</th>\n",
       "      <th>url</th>\n",
       "      <th>region</th>\n",
       "      <th>region_url</th>\n",
       "      <th>price</th>\n",
       "      <th>type</th>\n",
       "      <th>sqfeet</th>\n",
       "      <th>beds</th>\n",
       "      <th>baths</th>\n",
       "      <th>cats_allowed</th>\n",
       "      <th>...</th>\n",
       "      <th>wheelchair_access</th>\n",
       "      <th>electric_vehicle_charge</th>\n",
       "      <th>comes_furnished</th>\n",
       "      <th>laundry_options</th>\n",
       "      <th>parking_options</th>\n",
       "      <th>image_url</th>\n",
       "      <th>description</th>\n",
       "      <th>lat</th>\n",
       "      <th>long</th>\n",
       "      <th>state</th>\n",
       "    </tr>\n",
       "  </thead>\n",
       "  <tbody>\n",
       "    <tr>\n",
       "      <th>198</th>\n",
       "      <td>7046739043</td>\n",
       "      <td>https://ksu.craigslist.org/apa/d/manhattan-mag...</td>\n",
       "      <td>manhattan</td>\n",
       "      <td>https://ksu.craigslist.org</td>\n",
       "      <td>735</td>\n",
       "      <td>apartment</td>\n",
       "      <td>800</td>\n",
       "      <td>2</td>\n",
       "      <td>1.0</td>\n",
       "      <td>1</td>\n",
       "      <td>...</td>\n",
       "      <td>0</td>\n",
       "      <td>0</td>\n",
       "      <td>0</td>\n",
       "      <td>laundry in bldg</td>\n",
       "      <td>off-street parking</td>\n",
       "      <td>https://images.craigslist.org/00R0R_ciYsssEFRe...</td>\n",
       "      <td>Contact us today at  show contact info    Depo...</td>\n",
       "      <td>39.1937</td>\n",
       "      <td>-96.5747</td>\n",
       "      <td>ks</td>\n",
       "    </tr>\n",
       "    <tr>\n",
       "      <th>510</th>\n",
       "      <td>7043528535</td>\n",
       "      <td>https://ksu.craigslist.org/apa/d/manhattan-mag...</td>\n",
       "      <td>manhattan</td>\n",
       "      <td>https://ksu.craigslist.org</td>\n",
       "      <td>695</td>\n",
       "      <td>apartment</td>\n",
       "      <td>700</td>\n",
       "      <td>0</td>\n",
       "      <td>1.0</td>\n",
       "      <td>1</td>\n",
       "      <td>...</td>\n",
       "      <td>0</td>\n",
       "      <td>0</td>\n",
       "      <td>0</td>\n",
       "      <td>laundry in bldg</td>\n",
       "      <td>off-street parking</td>\n",
       "      <td>https://images.craigslist.org/00R0R_ciYsssEFRe...</td>\n",
       "      <td>Contact us today at  show contact info    Depo...</td>\n",
       "      <td>39.1937</td>\n",
       "      <td>-96.5747</td>\n",
       "      <td>ks</td>\n",
       "    </tr>\n",
       "    <tr>\n",
       "      <th>2552</th>\n",
       "      <td>7041806587</td>\n",
       "      <td>https://ksu.craigslist.org/apa/d/manhattan-don...</td>\n",
       "      <td>manhattan</td>\n",
       "      <td>https://ksu.craigslist.org</td>\n",
       "      <td>825</td>\n",
       "      <td>apartment</td>\n",
       "      <td>850</td>\n",
       "      <td>2</td>\n",
       "      <td>2.0</td>\n",
       "      <td>1</td>\n",
       "      <td>...</td>\n",
       "      <td>0</td>\n",
       "      <td>0</td>\n",
       "      <td>0</td>\n",
       "      <td>laundry in bldg</td>\n",
       "      <td>off-street parking</td>\n",
       "      <td>https://images.craigslist.org/00R0R_ciYsssEFRe...</td>\n",
       "      <td>Contact us today at  show contact info    Depo...</td>\n",
       "      <td>39.1937</td>\n",
       "      <td>-96.5747</td>\n",
       "      <td>ks</td>\n",
       "    </tr>\n",
       "    <tr>\n",
       "      <th>3209</th>\n",
       "      <td>7043536382</td>\n",
       "      <td>https://ksu.craigslist.org/apa/d/manhattan-don...</td>\n",
       "      <td>manhattan</td>\n",
       "      <td>https://ksu.craigslist.org</td>\n",
       "      <td>825</td>\n",
       "      <td>apartment</td>\n",
       "      <td>850</td>\n",
       "      <td>2</td>\n",
       "      <td>2.0</td>\n",
       "      <td>1</td>\n",
       "      <td>...</td>\n",
       "      <td>0</td>\n",
       "      <td>0</td>\n",
       "      <td>0</td>\n",
       "      <td>laundry in bldg</td>\n",
       "      <td>off-street parking</td>\n",
       "      <td>https://images.craigslist.org/00R0R_ciYsssEFRe...</td>\n",
       "      <td>Contact us today at  show contact info    Depo...</td>\n",
       "      <td>39.1937</td>\n",
       "      <td>-96.5747</td>\n",
       "      <td>ks</td>\n",
       "    </tr>\n",
       "    <tr>\n",
       "      <th>3710</th>\n",
       "      <td>7035290826</td>\n",
       "      <td>https://ksu.craigslist.org/apa/d/manhattan-mag...</td>\n",
       "      <td>manhattan</td>\n",
       "      <td>https://ksu.craigslist.org</td>\n",
       "      <td>720</td>\n",
       "      <td>apartment</td>\n",
       "      <td>750</td>\n",
       "      <td>1</td>\n",
       "      <td>1.0</td>\n",
       "      <td>1</td>\n",
       "      <td>...</td>\n",
       "      <td>0</td>\n",
       "      <td>0</td>\n",
       "      <td>0</td>\n",
       "      <td>laundry in bldg</td>\n",
       "      <td>off-street parking</td>\n",
       "      <td>https://images.craigslist.org/00R0R_ciYsssEFRe...</td>\n",
       "      <td>Contact us today at  show contact info    Depo...</td>\n",
       "      <td>39.1937</td>\n",
       "      <td>-96.5747</td>\n",
       "      <td>ks</td>\n",
       "    </tr>\n",
       "    <tr>\n",
       "      <th>...</th>\n",
       "      <td>...</td>\n",
       "      <td>...</td>\n",
       "      <td>...</td>\n",
       "      <td>...</td>\n",
       "      <td>...</td>\n",
       "      <td>...</td>\n",
       "      <td>...</td>\n",
       "      <td>...</td>\n",
       "      <td>...</td>\n",
       "      <td>...</td>\n",
       "      <td>...</td>\n",
       "      <td>...</td>\n",
       "      <td>...</td>\n",
       "      <td>...</td>\n",
       "      <td>...</td>\n",
       "      <td>...</td>\n",
       "      <td>...</td>\n",
       "      <td>...</td>\n",
       "      <td>...</td>\n",
       "      <td>...</td>\n",
       "      <td>...</td>\n",
       "    </tr>\n",
       "    <tr>\n",
       "      <th>337619</th>\n",
       "      <td>7044496004</td>\n",
       "      <td>https://ksu.craigslist.org/apa/d/manhattan-mag...</td>\n",
       "      <td>manhattan</td>\n",
       "      <td>https://ksu.craigslist.org</td>\n",
       "      <td>735</td>\n",
       "      <td>apartment</td>\n",
       "      <td>825</td>\n",
       "      <td>2</td>\n",
       "      <td>1.5</td>\n",
       "      <td>1</td>\n",
       "      <td>...</td>\n",
       "      <td>0</td>\n",
       "      <td>0</td>\n",
       "      <td>0</td>\n",
       "      <td>laundry in bldg</td>\n",
       "      <td>off-street parking</td>\n",
       "      <td>https://images.craigslist.org/00R0R_ciYsssEFRe...</td>\n",
       "      <td>Contact us today at  show contact info    Depo...</td>\n",
       "      <td>39.1937</td>\n",
       "      <td>-96.5747</td>\n",
       "      <td>ks</td>\n",
       "    </tr>\n",
       "    <tr>\n",
       "      <th>338020</th>\n",
       "      <td>7047338260</td>\n",
       "      <td>https://ksu.craigslist.org/apa/d/manhattan-mag...</td>\n",
       "      <td>manhattan</td>\n",
       "      <td>https://ksu.craigslist.org</td>\n",
       "      <td>695</td>\n",
       "      <td>apartment</td>\n",
       "      <td>700</td>\n",
       "      <td>0</td>\n",
       "      <td>1.0</td>\n",
       "      <td>1</td>\n",
       "      <td>...</td>\n",
       "      <td>0</td>\n",
       "      <td>0</td>\n",
       "      <td>0</td>\n",
       "      <td>laundry in bldg</td>\n",
       "      <td>off-street parking</td>\n",
       "      <td>https://images.craigslist.org/00R0R_ciYsssEFRe...</td>\n",
       "      <td>Contact us today at  show contact info    Depo...</td>\n",
       "      <td>39.1937</td>\n",
       "      <td>-96.5747</td>\n",
       "      <td>ks</td>\n",
       "    </tr>\n",
       "    <tr>\n",
       "      <th>341777</th>\n",
       "      <td>7047342887</td>\n",
       "      <td>https://ksu.craigslist.org/apa/d/manhattan-don...</td>\n",
       "      <td>manhattan</td>\n",
       "      <td>https://ksu.craigslist.org</td>\n",
       "      <td>1085</td>\n",
       "      <td>apartment</td>\n",
       "      <td>950</td>\n",
       "      <td>3</td>\n",
       "      <td>1.5</td>\n",
       "      <td>1</td>\n",
       "      <td>...</td>\n",
       "      <td>0</td>\n",
       "      <td>0</td>\n",
       "      <td>0</td>\n",
       "      <td>w/d hookups</td>\n",
       "      <td>off-street parking</td>\n",
       "      <td>https://images.craigslist.org/00R0R_ciYsssEFRe...</td>\n",
       "      <td>Contact us today at  show contact info    Depo...</td>\n",
       "      <td>39.1937</td>\n",
       "      <td>-96.5747</td>\n",
       "      <td>ks</td>\n",
       "    </tr>\n",
       "    <tr>\n",
       "      <th>342812</th>\n",
       "      <td>7028881796</td>\n",
       "      <td>https://ksu.craigslist.org/apa/d/manhattan-mag...</td>\n",
       "      <td>manhattan</td>\n",
       "      <td>https://ksu.craigslist.org</td>\n",
       "      <td>720</td>\n",
       "      <td>apartment</td>\n",
       "      <td>750</td>\n",
       "      <td>1</td>\n",
       "      <td>1.0</td>\n",
       "      <td>1</td>\n",
       "      <td>...</td>\n",
       "      <td>0</td>\n",
       "      <td>0</td>\n",
       "      <td>0</td>\n",
       "      <td>laundry in bldg</td>\n",
       "      <td>off-street parking</td>\n",
       "      <td>https://images.craigslist.org/00R0R_ciYsssEFRe...</td>\n",
       "      <td>Contact us today at  show contact info    Depo...</td>\n",
       "      <td>39.1937</td>\n",
       "      <td>-96.5747</td>\n",
       "      <td>ks</td>\n",
       "    </tr>\n",
       "    <tr>\n",
       "      <th>344050</th>\n",
       "      <td>7040217797</td>\n",
       "      <td>https://ksu.craigslist.org/apa/d/manhattan-mag...</td>\n",
       "      <td>manhattan</td>\n",
       "      <td>https://ksu.craigslist.org</td>\n",
       "      <td>735</td>\n",
       "      <td>apartment</td>\n",
       "      <td>825</td>\n",
       "      <td>2</td>\n",
       "      <td>1.5</td>\n",
       "      <td>1</td>\n",
       "      <td>...</td>\n",
       "      <td>0</td>\n",
       "      <td>0</td>\n",
       "      <td>0</td>\n",
       "      <td>laundry in bldg</td>\n",
       "      <td>off-street parking</td>\n",
       "      <td>https://images.craigslist.org/00R0R_ciYsssEFRe...</td>\n",
       "      <td>Contact us today at  show contact info    Depo...</td>\n",
       "      <td>39.1937</td>\n",
       "      <td>-96.5747</td>\n",
       "      <td>ks</td>\n",
       "    </tr>\n",
       "  </tbody>\n",
       "</table>\n",
       "<p>363 rows × 22 columns</p>\n",
       "</div>"
      ],
      "text/plain": [
       "                id                                                url  \\\n",
       "198     7046739043  https://ksu.craigslist.org/apa/d/manhattan-mag...   \n",
       "510     7043528535  https://ksu.craigslist.org/apa/d/manhattan-mag...   \n",
       "2552    7041806587  https://ksu.craigslist.org/apa/d/manhattan-don...   \n",
       "3209    7043536382  https://ksu.craigslist.org/apa/d/manhattan-don...   \n",
       "3710    7035290826  https://ksu.craigslist.org/apa/d/manhattan-mag...   \n",
       "...            ...                                                ...   \n",
       "337619  7044496004  https://ksu.craigslist.org/apa/d/manhattan-mag...   \n",
       "338020  7047338260  https://ksu.craigslist.org/apa/d/manhattan-mag...   \n",
       "341777  7047342887  https://ksu.craigslist.org/apa/d/manhattan-don...   \n",
       "342812  7028881796  https://ksu.craigslist.org/apa/d/manhattan-mag...   \n",
       "344050  7040217797  https://ksu.craigslist.org/apa/d/manhattan-mag...   \n",
       "\n",
       "           region                  region_url  price       type  sqfeet  beds  \\\n",
       "198     manhattan  https://ksu.craigslist.org    735  apartment     800     2   \n",
       "510     manhattan  https://ksu.craigslist.org    695  apartment     700     0   \n",
       "2552    manhattan  https://ksu.craigslist.org    825  apartment     850     2   \n",
       "3209    manhattan  https://ksu.craigslist.org    825  apartment     850     2   \n",
       "3710    manhattan  https://ksu.craigslist.org    720  apartment     750     1   \n",
       "...           ...                         ...    ...        ...     ...   ...   \n",
       "337619  manhattan  https://ksu.craigslist.org    735  apartment     825     2   \n",
       "338020  manhattan  https://ksu.craigslist.org    695  apartment     700     0   \n",
       "341777  manhattan  https://ksu.craigslist.org   1085  apartment     950     3   \n",
       "342812  manhattan  https://ksu.craigslist.org    720  apartment     750     1   \n",
       "344050  manhattan  https://ksu.craigslist.org    735  apartment     825     2   \n",
       "\n",
       "        baths  cats_allowed  ...  wheelchair_access  electric_vehicle_charge  \\\n",
       "198       1.0             1  ...                  0                        0   \n",
       "510       1.0             1  ...                  0                        0   \n",
       "2552      2.0             1  ...                  0                        0   \n",
       "3209      2.0             1  ...                  0                        0   \n",
       "3710      1.0             1  ...                  0                        0   \n",
       "...       ...           ...  ...                ...                      ...   \n",
       "337619    1.5             1  ...                  0                        0   \n",
       "338020    1.0             1  ...                  0                        0   \n",
       "341777    1.5             1  ...                  0                        0   \n",
       "342812    1.0             1  ...                  0                        0   \n",
       "344050    1.5             1  ...                  0                        0   \n",
       "\n",
       "        comes_furnished  laundry_options     parking_options  \\\n",
       "198                   0  laundry in bldg  off-street parking   \n",
       "510                   0  laundry in bldg  off-street parking   \n",
       "2552                  0  laundry in bldg  off-street parking   \n",
       "3209                  0  laundry in bldg  off-street parking   \n",
       "3710                  0  laundry in bldg  off-street parking   \n",
       "...                 ...              ...                 ...   \n",
       "337619                0  laundry in bldg  off-street parking   \n",
       "338020                0  laundry in bldg  off-street parking   \n",
       "341777                0      w/d hookups  off-street parking   \n",
       "342812                0  laundry in bldg  off-street parking   \n",
       "344050                0  laundry in bldg  off-street parking   \n",
       "\n",
       "                                                image_url  \\\n",
       "198     https://images.craigslist.org/00R0R_ciYsssEFRe...   \n",
       "510     https://images.craigslist.org/00R0R_ciYsssEFRe...   \n",
       "2552    https://images.craigslist.org/00R0R_ciYsssEFRe...   \n",
       "3209    https://images.craigslist.org/00R0R_ciYsssEFRe...   \n",
       "3710    https://images.craigslist.org/00R0R_ciYsssEFRe...   \n",
       "...                                                   ...   \n",
       "337619  https://images.craigslist.org/00R0R_ciYsssEFRe...   \n",
       "338020  https://images.craigslist.org/00R0R_ciYsssEFRe...   \n",
       "341777  https://images.craigslist.org/00R0R_ciYsssEFRe...   \n",
       "342812  https://images.craigslist.org/00R0R_ciYsssEFRe...   \n",
       "344050  https://images.craigslist.org/00R0R_ciYsssEFRe...   \n",
       "\n",
       "                                              description      lat     long  \\\n",
       "198     Contact us today at  show contact info    Depo...  39.1937 -96.5747   \n",
       "510     Contact us today at  show contact info    Depo...  39.1937 -96.5747   \n",
       "2552    Contact us today at  show contact info    Depo...  39.1937 -96.5747   \n",
       "3209    Contact us today at  show contact info    Depo...  39.1937 -96.5747   \n",
       "3710    Contact us today at  show contact info    Depo...  39.1937 -96.5747   \n",
       "...                                                   ...      ...      ...   \n",
       "337619  Contact us today at  show contact info    Depo...  39.1937 -96.5747   \n",
       "338020  Contact us today at  show contact info    Depo...  39.1937 -96.5747   \n",
       "341777  Contact us today at  show contact info    Depo...  39.1937 -96.5747   \n",
       "342812  Contact us today at  show contact info    Depo...  39.1937 -96.5747   \n",
       "344050  Contact us today at  show contact info    Depo...  39.1937 -96.5747   \n",
       "\n",
       "        state  \n",
       "198        ks  \n",
       "510        ks  \n",
       "2552       ks  \n",
       "3209       ks  \n",
       "3710       ks  \n",
       "...       ...  \n",
       "337619     ks  \n",
       "338020     ks  \n",
       "341777     ks  \n",
       "342812     ks  \n",
       "344050     ks  \n",
       "\n",
       "[363 rows x 22 columns]"
      ]
     },
     "execution_count": 135,
     "metadata": {},
     "output_type": "execute_result"
    }
   ],
   "source": [
    "train[(train['image_url']== 'https://images.craigslist.org/00R0R_ciYsssEFReq_600x450.jpg')]"
   ]
  },
  {
   "attachments": {},
   "cell_type": "markdown",
   "metadata": {},
   "source": [
    "Podemos corroborar que las publicaciones corresponden al mismo inmueble debido a que referencian la misma ubicación fisica (lo cual deduzco por los valores de la columna latitud y longitud).\n",
    "Este hallazgo en el EDA es clave, ya que vemos que hay muchísimas propiedades repetidas en el dataset con diversos valores de las variables que utilizaremos posteriormente para entrenar nuestro modelo."
   ]
  },
  {
   "attachments": {},
   "cell_type": "markdown",
   "metadata": {},
   "source": [
    "Procedo a ubicar los inmuebles repetidos según su ubicación."
   ]
  },
  {
   "cell_type": "code",
   "execution_count": 136,
   "metadata": {},
   "outputs": [
    {
     "data": {
      "text/plain": [
       "272239"
      ]
     },
     "execution_count": 136,
     "metadata": {},
     "output_type": "execute_result"
    }
   ],
   "source": [
    "train.duplicated(subset = ['lat','long']).sum()"
   ]
  },
  {
   "cell_type": "code",
   "execution_count": 137,
   "metadata": {},
   "outputs": [
    {
     "data": {
      "text/plain": [
       "292656"
      ]
     },
     "execution_count": 137,
     "metadata": {},
     "output_type": "execute_result"
    }
   ],
   "source": [
    "train.duplicated(subset = ['lat']).sum()"
   ]
  },
  {
   "cell_type": "code",
   "execution_count": 138,
   "metadata": {},
   "outputs": [
    {
     "data": {
      "text/plain": [
       "295349"
      ]
     },
     "execution_count": 138,
     "metadata": {},
     "output_type": "execute_result"
    }
   ],
   "source": [
    "train.duplicated(subset = ['long']).sum()"
   ]
  },
  {
   "attachments": {},
   "cell_type": "markdown",
   "metadata": {},
   "source": [
    "Podemos estar seguros que 272239 registros están duplicados, ya que tanto latitud como longitud coinciden.\n",
    "En los otros casos, observamos el fenómeno de que tal vez dos casas en venta se encuentran sobre la misma calle en otra altura de la misma.\n",
    "Asi mismo puede ocurrir que sean errores de tipeo al cargar los datos y que se trate de la misma propiedad. De ser así, podríamos tendríamos 2693 registros repetidos. Al ser un error de menos del 1% del tamaño del dataset, decidiremos dejar esos posibles registros duplicados."
   ]
  },
  {
   "attachments": {},
   "cell_type": "markdown",
   "metadata": {},
   "source": [
    "Veo que este resultado es mayor por la existencia de propiedades con valores de lat y long incompletos en el dataset.\n",
    "Sin embargo son solo 1722 registros sin dato en lat y/o long, por lo cual puedo inferir que este criterio de identifiación de repetidos agrega otros registros que antes no había detectado."
   ]
  },
  {
   "cell_type": "code",
   "execution_count": 139,
   "metadata": {},
   "outputs": [
    {
     "data": {
      "text/html": [
       "<div>\n",
       "<style scoped>\n",
       "    .dataframe tbody tr th:only-of-type {\n",
       "        vertical-align: middle;\n",
       "    }\n",
       "\n",
       "    .dataframe tbody tr th {\n",
       "        vertical-align: top;\n",
       "    }\n",
       "\n",
       "    .dataframe thead th {\n",
       "        text-align: right;\n",
       "    }\n",
       "</style>\n",
       "<table border=\"1\" class=\"dataframe\">\n",
       "  <thead>\n",
       "    <tr style=\"text-align: right;\">\n",
       "      <th></th>\n",
       "      <th>id</th>\n",
       "      <th>url</th>\n",
       "      <th>region</th>\n",
       "      <th>region_url</th>\n",
       "      <th>price</th>\n",
       "      <th>type</th>\n",
       "      <th>sqfeet</th>\n",
       "      <th>beds</th>\n",
       "      <th>baths</th>\n",
       "      <th>cats_allowed</th>\n",
       "      <th>...</th>\n",
       "      <th>wheelchair_access</th>\n",
       "      <th>electric_vehicle_charge</th>\n",
       "      <th>comes_furnished</th>\n",
       "      <th>laundry_options</th>\n",
       "      <th>parking_options</th>\n",
       "      <th>image_url</th>\n",
       "      <th>description</th>\n",
       "      <th>lat</th>\n",
       "      <th>long</th>\n",
       "      <th>state</th>\n",
       "    </tr>\n",
       "  </thead>\n",
       "  <tbody>\n",
       "    <tr>\n",
       "      <th>95108</th>\n",
       "      <td>7045429590</td>\n",
       "      <td>https://milwaukee.craigslist.org/apa/d/hales-c...</td>\n",
       "      <td>milwaukee</td>\n",
       "      <td>https://milwaukee.craigslist.org</td>\n",
       "      <td>1290</td>\n",
       "      <td>apartment</td>\n",
       "      <td>1300</td>\n",
       "      <td>2</td>\n",
       "      <td>2.0</td>\n",
       "      <td>1</td>\n",
       "      <td>...</td>\n",
       "      <td>0</td>\n",
       "      <td>0</td>\n",
       "      <td>0</td>\n",
       "      <td>w/d in unit</td>\n",
       "      <td>attached garage</td>\n",
       "      <td>https://images.craigslist.org/00606_5KY5uujn3M...</td>\n",
       "      <td>Spacious 1300sq. feet of  Beautifulness! Locat...</td>\n",
       "      <td>2.83091</td>\n",
       "      <td>-2.83100</td>\n",
       "      <td>wi</td>\n",
       "    </tr>\n",
       "    <tr>\n",
       "      <th>205401</th>\n",
       "      <td>7046420697</td>\n",
       "      <td>https://milwaukee.craigslist.org/apa/d/brand-n...</td>\n",
       "      <td>milwaukee</td>\n",
       "      <td>https://milwaukee.craigslist.org</td>\n",
       "      <td>1779</td>\n",
       "      <td>apartment</td>\n",
       "      <td>1167</td>\n",
       "      <td>2</td>\n",
       "      <td>2.0</td>\n",
       "      <td>1</td>\n",
       "      <td>...</td>\n",
       "      <td>1</td>\n",
       "      <td>0</td>\n",
       "      <td>0</td>\n",
       "      <td>w/d in unit</td>\n",
       "      <td>attached garage</td>\n",
       "      <td>https://images.craigslist.org/00G0G_bZzm0ZVjm2...</td>\n",
       "      <td>BRAND NEW BEAUTIFUL 1167 sq. ft. 2 bedroom 2 b...</td>\n",
       "      <td>2.93300</td>\n",
       "      <td>-2.93308</td>\n",
       "      <td>wi</td>\n",
       "    </tr>\n",
       "    <tr>\n",
       "      <th>249201</th>\n",
       "      <td>7046439656</td>\n",
       "      <td>https://milwaukee.craigslist.org/apa/d/brand-n...</td>\n",
       "      <td>milwaukee</td>\n",
       "      <td>https://milwaukee.craigslist.org</td>\n",
       "      <td>1415</td>\n",
       "      <td>apartment</td>\n",
       "      <td>849</td>\n",
       "      <td>1</td>\n",
       "      <td>1.0</td>\n",
       "      <td>1</td>\n",
       "      <td>...</td>\n",
       "      <td>1</td>\n",
       "      <td>0</td>\n",
       "      <td>0</td>\n",
       "      <td>w/d in unit</td>\n",
       "      <td>attached garage</td>\n",
       "      <td>https://images.craigslist.org/00N0N_hYxDE2kPEJ...</td>\n",
       "      <td>LAST TOP FLOOR 1 BEDROOM LUXURY APARTMENT! DON...</td>\n",
       "      <td>2.93300</td>\n",
       "      <td>-2.93308</td>\n",
       "      <td>wi</td>\n",
       "    </tr>\n",
       "    <tr>\n",
       "      <th>255548</th>\n",
       "      <td>7049621153</td>\n",
       "      <td>https://atlanta.craigslist.org/sat/apa/d/start...</td>\n",
       "      <td>atlanta</td>\n",
       "      <td>https://atlanta.craigslist.org</td>\n",
       "      <td>1167</td>\n",
       "      <td>apartment</td>\n",
       "      <td>1236</td>\n",
       "      <td>2</td>\n",
       "      <td>2.0</td>\n",
       "      <td>1</td>\n",
       "      <td>...</td>\n",
       "      <td>0</td>\n",
       "      <td>0</td>\n",
       "      <td>0</td>\n",
       "      <td>w/d hookups</td>\n",
       "      <td>detached garage</td>\n",
       "      <td>https://images.craigslist.org/01010_koNjcxMPhh...</td>\n",
       "      <td>Welcome Home to Terraces at Fieldstone Perched...</td>\n",
       "      <td>16.13160</td>\n",
       "      <td>-16.13160</td>\n",
       "      <td>ga</td>\n",
       "    </tr>\n",
       "    <tr>\n",
       "      <th>123237</th>\n",
       "      <td>7044960839</td>\n",
       "      <td>https://honolulu.craigslist.org/big/apa/d/capt...</td>\n",
       "      <td>hawaii</td>\n",
       "      <td>https://honolulu.craigslist.org</td>\n",
       "      <td>2500</td>\n",
       "      <td>house</td>\n",
       "      <td>1600</td>\n",
       "      <td>3</td>\n",
       "      <td>2.0</td>\n",
       "      <td>0</td>\n",
       "      <td>...</td>\n",
       "      <td>0</td>\n",
       "      <td>0</td>\n",
       "      <td>0</td>\n",
       "      <td>w/d in unit</td>\n",
       "      <td>attached garage</td>\n",
       "      <td>https://images.craigslist.org/00Y0Y_chMSTc2DBG...</td>\n",
       "      <td>Three bedroom two bathroom home has Solar 8 mi...</td>\n",
       "      <td>19.32060</td>\n",
       "      <td>-155.81000</td>\n",
       "      <td>hi</td>\n",
       "    </tr>\n",
       "    <tr>\n",
       "      <th>...</th>\n",
       "      <td>...</td>\n",
       "      <td>...</td>\n",
       "      <td>...</td>\n",
       "      <td>...</td>\n",
       "      <td>...</td>\n",
       "      <td>...</td>\n",
       "      <td>...</td>\n",
       "      <td>...</td>\n",
       "      <td>...</td>\n",
       "      <td>...</td>\n",
       "      <td>...</td>\n",
       "      <td>...</td>\n",
       "      <td>...</td>\n",
       "      <td>...</td>\n",
       "      <td>...</td>\n",
       "      <td>...</td>\n",
       "      <td>...</td>\n",
       "      <td>...</td>\n",
       "      <td>...</td>\n",
       "      <td>...</td>\n",
       "      <td>...</td>\n",
       "    </tr>\n",
       "    <tr>\n",
       "      <th>345789</th>\n",
       "      <td>7040091805</td>\n",
       "      <td>https://toledo.craigslist.org/apa/d/newly-list...</td>\n",
       "      <td>toledo</td>\n",
       "      <td>https://toledo.craigslist.org</td>\n",
       "      <td>650</td>\n",
       "      <td>house</td>\n",
       "      <td>1624</td>\n",
       "      <td>3</td>\n",
       "      <td>1.0</td>\n",
       "      <td>0</td>\n",
       "      <td>...</td>\n",
       "      <td>0</td>\n",
       "      <td>0</td>\n",
       "      <td>0</td>\n",
       "      <td>w/d hookups</td>\n",
       "      <td>detached garage</td>\n",
       "      <td>https://images.craigslist.org/01212_8hvuiDxMoS...</td>\n",
       "      <td>Large 3BR with Large lot -&gt; 2-car garage with ...</td>\n",
       "      <td>NaN</td>\n",
       "      <td>NaN</td>\n",
       "      <td>oh</td>\n",
       "    </tr>\n",
       "    <tr>\n",
       "      <th>345847</th>\n",
       "      <td>7033042711</td>\n",
       "      <td>https://huntsville.craigslist.org/apa/d/come-s...</td>\n",
       "      <td>huntsville / decatur</td>\n",
       "      <td>https://huntsville.craigslist.org</td>\n",
       "      <td>739</td>\n",
       "      <td>apartment</td>\n",
       "      <td>640</td>\n",
       "      <td>1</td>\n",
       "      <td>1.0</td>\n",
       "      <td>1</td>\n",
       "      <td>...</td>\n",
       "      <td>0</td>\n",
       "      <td>0</td>\n",
       "      <td>0</td>\n",
       "      <td>laundry in bldg</td>\n",
       "      <td>off-street parking</td>\n",
       "      <td>https://images.craigslist.org/00h0h_2eRBbtCoKb...</td>\n",
       "      <td>The Preserve at Crestwood\\t                   ...</td>\n",
       "      <td>NaN</td>\n",
       "      <td>NaN</td>\n",
       "      <td>al</td>\n",
       "    </tr>\n",
       "    <tr>\n",
       "      <th>345856</th>\n",
       "      <td>7049041897</td>\n",
       "      <td>https://lubbock.craigslist.org/apa/d/completel...</td>\n",
       "      <td>lubbock</td>\n",
       "      <td>https://lubbock.craigslist.org</td>\n",
       "      <td>606</td>\n",
       "      <td>apartment</td>\n",
       "      <td>627</td>\n",
       "      <td>1</td>\n",
       "      <td>1.0</td>\n",
       "      <td>0</td>\n",
       "      <td>...</td>\n",
       "      <td>0</td>\n",
       "      <td>0</td>\n",
       "      <td>0</td>\n",
       "      <td>None</td>\n",
       "      <td>None</td>\n",
       "      <td>https://images.craigslist.org/00101_90L80OdQQ5...</td>\n",
       "      <td>If you like it and want to rent this please TE...</td>\n",
       "      <td>NaN</td>\n",
       "      <td>NaN</td>\n",
       "      <td>tx</td>\n",
       "    </tr>\n",
       "    <tr>\n",
       "      <th>345995</th>\n",
       "      <td>7043301388</td>\n",
       "      <td>https://sarasota.craigslist.org/apa/d/large-ho...</td>\n",
       "      <td>sarasota-bradenton</td>\n",
       "      <td>https://sarasota.craigslist.org</td>\n",
       "      <td>1800</td>\n",
       "      <td>house</td>\n",
       "      <td>2300</td>\n",
       "      <td>2</td>\n",
       "      <td>1.0</td>\n",
       "      <td>0</td>\n",
       "      <td>...</td>\n",
       "      <td>0</td>\n",
       "      <td>0</td>\n",
       "      <td>1</td>\n",
       "      <td>w/d hookups</td>\n",
       "      <td>off-street parking</td>\n",
       "      <td>https://images.craigslist.org/00n0n_9p9IpPtxL0...</td>\n",
       "      <td>We have a beautiful 2 large bedroom 1 bath hom...</td>\n",
       "      <td>NaN</td>\n",
       "      <td>NaN</td>\n",
       "      <td>fl</td>\n",
       "    </tr>\n",
       "    <tr>\n",
       "      <th>346110</th>\n",
       "      <td>7044596360</td>\n",
       "      <td>https://panamacity.craigslist.org/apa/d/profes...</td>\n",
       "      <td>panama city</td>\n",
       "      <td>https://panamacity.craigslist.org</td>\n",
       "      <td>695</td>\n",
       "      <td>apartment</td>\n",
       "      <td>1047</td>\n",
       "      <td>2</td>\n",
       "      <td>2.0</td>\n",
       "      <td>1</td>\n",
       "      <td>...</td>\n",
       "      <td>0</td>\n",
       "      <td>0</td>\n",
       "      <td>0</td>\n",
       "      <td>w/d hookups</td>\n",
       "      <td>None</td>\n",
       "      <td>https://images.craigslist.org/00F0F_kmLXgucf2v...</td>\n",
       "      <td>VIEW OUR WEBSITE:  http://www.stoneharborapts....</td>\n",
       "      <td>NaN</td>\n",
       "      <td>NaN</td>\n",
       "      <td>fl</td>\n",
       "    </tr>\n",
       "  </tbody>\n",
       "</table>\n",
       "<p>272239 rows × 22 columns</p>\n",
       "</div>"
      ],
      "text/plain": [
       "                id                                                url  \\\n",
       "95108   7045429590  https://milwaukee.craigslist.org/apa/d/hales-c...   \n",
       "205401  7046420697  https://milwaukee.craigslist.org/apa/d/brand-n...   \n",
       "249201  7046439656  https://milwaukee.craigslist.org/apa/d/brand-n...   \n",
       "255548  7049621153  https://atlanta.craigslist.org/sat/apa/d/start...   \n",
       "123237  7044960839  https://honolulu.craigslist.org/big/apa/d/capt...   \n",
       "...            ...                                                ...   \n",
       "345789  7040091805  https://toledo.craigslist.org/apa/d/newly-list...   \n",
       "345847  7033042711  https://huntsville.craigslist.org/apa/d/come-s...   \n",
       "345856  7049041897  https://lubbock.craigslist.org/apa/d/completel...   \n",
       "345995  7043301388  https://sarasota.craigslist.org/apa/d/large-ho...   \n",
       "346110  7044596360  https://panamacity.craigslist.org/apa/d/profes...   \n",
       "\n",
       "                      region                         region_url  price  \\\n",
       "95108              milwaukee   https://milwaukee.craigslist.org   1290   \n",
       "205401             milwaukee   https://milwaukee.craigslist.org   1779   \n",
       "249201             milwaukee   https://milwaukee.craigslist.org   1415   \n",
       "255548               atlanta     https://atlanta.craigslist.org   1167   \n",
       "123237                hawaii    https://honolulu.craigslist.org   2500   \n",
       "...                      ...                                ...    ...   \n",
       "345789                toledo      https://toledo.craigslist.org    650   \n",
       "345847  huntsville / decatur  https://huntsville.craigslist.org    739   \n",
       "345856               lubbock     https://lubbock.craigslist.org    606   \n",
       "345995    sarasota-bradenton    https://sarasota.craigslist.org   1800   \n",
       "346110           panama city  https://panamacity.craigslist.org    695   \n",
       "\n",
       "             type  sqfeet  beds  baths  cats_allowed  ...  wheelchair_access  \\\n",
       "95108   apartment    1300     2    2.0             1  ...                  0   \n",
       "205401  apartment    1167     2    2.0             1  ...                  1   \n",
       "249201  apartment     849     1    1.0             1  ...                  1   \n",
       "255548  apartment    1236     2    2.0             1  ...                  0   \n",
       "123237      house    1600     3    2.0             0  ...                  0   \n",
       "...           ...     ...   ...    ...           ...  ...                ...   \n",
       "345789      house    1624     3    1.0             0  ...                  0   \n",
       "345847  apartment     640     1    1.0             1  ...                  0   \n",
       "345856  apartment     627     1    1.0             0  ...                  0   \n",
       "345995      house    2300     2    1.0             0  ...                  0   \n",
       "346110  apartment    1047     2    2.0             1  ...                  0   \n",
       "\n",
       "        electric_vehicle_charge  comes_furnished  laundry_options  \\\n",
       "95108                         0                0      w/d in unit   \n",
       "205401                        0                0      w/d in unit   \n",
       "249201                        0                0      w/d in unit   \n",
       "255548                        0                0      w/d hookups   \n",
       "123237                        0                0      w/d in unit   \n",
       "...                         ...              ...              ...   \n",
       "345789                        0                0      w/d hookups   \n",
       "345847                        0                0  laundry in bldg   \n",
       "345856                        0                0             None   \n",
       "345995                        0                1      w/d hookups   \n",
       "346110                        0                0      w/d hookups   \n",
       "\n",
       "           parking_options                                          image_url  \\\n",
       "95108      attached garage  https://images.craigslist.org/00606_5KY5uujn3M...   \n",
       "205401     attached garage  https://images.craigslist.org/00G0G_bZzm0ZVjm2...   \n",
       "249201     attached garage  https://images.craigslist.org/00N0N_hYxDE2kPEJ...   \n",
       "255548     detached garage  https://images.craigslist.org/01010_koNjcxMPhh...   \n",
       "123237     attached garage  https://images.craigslist.org/00Y0Y_chMSTc2DBG...   \n",
       "...                    ...                                                ...   \n",
       "345789     detached garage  https://images.craigslist.org/01212_8hvuiDxMoS...   \n",
       "345847  off-street parking  https://images.craigslist.org/00h0h_2eRBbtCoKb...   \n",
       "345856                None  https://images.craigslist.org/00101_90L80OdQQ5...   \n",
       "345995  off-street parking  https://images.craigslist.org/00n0n_9p9IpPtxL0...   \n",
       "346110                None  https://images.craigslist.org/00F0F_kmLXgucf2v...   \n",
       "\n",
       "                                              description       lat  \\\n",
       "95108   Spacious 1300sq. feet of  Beautifulness! Locat...   2.83091   \n",
       "205401  BRAND NEW BEAUTIFUL 1167 sq. ft. 2 bedroom 2 b...   2.93300   \n",
       "249201  LAST TOP FLOOR 1 BEDROOM LUXURY APARTMENT! DON...   2.93300   \n",
       "255548  Welcome Home to Terraces at Fieldstone Perched...  16.13160   \n",
       "123237  Three bedroom two bathroom home has Solar 8 mi...  19.32060   \n",
       "...                                                   ...       ...   \n",
       "345789  Large 3BR with Large lot -> 2-car garage with ...       NaN   \n",
       "345847  The Preserve at Crestwood\\t                   ...       NaN   \n",
       "345856  If you like it and want to rent this please TE...       NaN   \n",
       "345995  We have a beautiful 2 large bedroom 1 bath hom...       NaN   \n",
       "346110  VIEW OUR WEBSITE:  http://www.stoneharborapts....       NaN   \n",
       "\n",
       "             long  state  \n",
       "95108    -2.83100     wi  \n",
       "205401   -2.93308     wi  \n",
       "249201   -2.93308     wi  \n",
       "255548  -16.13160     ga  \n",
       "123237 -155.81000     hi  \n",
       "...           ...    ...  \n",
       "345789        NaN     oh  \n",
       "345847        NaN     al  \n",
       "345856        NaN     tx  \n",
       "345995        NaN     fl  \n",
       "346110        NaN     fl  \n",
       "\n",
       "[272239 rows x 22 columns]"
      ]
     },
     "execution_count": 139,
     "metadata": {},
     "output_type": "execute_result"
    }
   ],
   "source": [
    "train[train.duplicated(subset = ['lat','long'])].sort_values(by = ['lat','long'])"
   ]
  },
  {
   "attachments": {},
   "cell_type": "markdown",
   "metadata": {},
   "source": [
    "Casualmente podemos apreciar como el 2do y 3er registro pertenecen a la misma propiedad en Milwakee, a la cual le realizaron reformas agregándole un baño y un cuarto, incrementando así su precio."
   ]
  },
  {
   "attachments": {},
   "cell_type": "markdown",
   "metadata": {},
   "source": [
    "El criterio de eliminación de duplicados elegido, será eliminar los registros con la misma descripción, o con misma image_url o la misma ubicación (siendo evidentemente éste último el más potente). Sin embargo es óptimo utilizar los tres simultáneamente ya que puede ocurrir que al publicar se haya modificado o tipeado mal las coordenadas de la ubicación, y en ese caso maximizo el criterio de filtración al considerar los otros dos criterios."
   ]
  },
  {
   "cell_type": "code",
   "execution_count": 140,
   "metadata": {},
   "outputs": [],
   "source": [
    "train.drop_duplicates(subset='description', inplace=True)"
   ]
  },
  {
   "cell_type": "code",
   "execution_count": 141,
   "metadata": {},
   "outputs": [],
   "source": [
    "train.drop_duplicates(subset='image_url', inplace=True)"
   ]
  },
  {
   "attachments": {},
   "cell_type": "markdown",
   "metadata": {},
   "source": [
    "En el criterio puntual de la  eliminación de duplicados por ubicación, considero no eliminar los registros que no cuentan con datos de coordenadas. Para ello voy a llevar esos 842 registros a otro dataframe, eliminaré todos los repetidos de la tabla original y luego concatenaré las tablas nuevamente."
   ]
  },
  {
   "cell_type": "code",
   "execution_count": 142,
   "metadata": {},
   "outputs": [
    {
     "data": {
      "text/plain": [
       "lat     842\n",
       "long    842\n",
       "dtype: int64"
      ]
     },
     "execution_count": 142,
     "metadata": {},
     "output_type": "execute_result"
    }
   ],
   "source": [
    "train[['lat','long']].isnull().sum()"
   ]
  },
  {
   "cell_type": "code",
   "execution_count": 143,
   "metadata": {},
   "outputs": [
    {
     "data": {
      "text/plain": [
       "(149363, 22)"
      ]
     },
     "execution_count": 143,
     "metadata": {},
     "output_type": "execute_result"
    }
   ],
   "source": [
    "train.shape"
   ]
  },
  {
   "attachments": {},
   "cell_type": "markdown",
   "metadata": {},
   "source": [
    "Agrupo los registros con los valores NaN al fondo del dataframe, y restando de la totalidad de registros la cantidad de NaN puedo ubicar desde que punto separarlo para posteriormente llevarme ese split a otro dataframe."
   ]
  },
  {
   "cell_type": "code",
   "execution_count": 144,
   "metadata": {},
   "outputs": [],
   "source": [
    "train = train.sort_values(by=['lat'])   "
   ]
  },
  {
   "cell_type": "code",
   "execution_count": 145,
   "metadata": {},
   "outputs": [
    {
     "data": {
      "text/html": [
       "<div>\n",
       "<style scoped>\n",
       "    .dataframe tbody tr th:only-of-type {\n",
       "        vertical-align: middle;\n",
       "    }\n",
       "\n",
       "    .dataframe tbody tr th {\n",
       "        vertical-align: top;\n",
       "    }\n",
       "\n",
       "    .dataframe thead th {\n",
       "        text-align: right;\n",
       "    }\n",
       "</style>\n",
       "<table border=\"1\" class=\"dataframe\">\n",
       "  <thead>\n",
       "    <tr style=\"text-align: right;\">\n",
       "      <th></th>\n",
       "      <th>id</th>\n",
       "      <th>url</th>\n",
       "      <th>region</th>\n",
       "      <th>region_url</th>\n",
       "      <th>price</th>\n",
       "      <th>type</th>\n",
       "      <th>sqfeet</th>\n",
       "      <th>beds</th>\n",
       "      <th>baths</th>\n",
       "      <th>cats_allowed</th>\n",
       "      <th>...</th>\n",
       "      <th>wheelchair_access</th>\n",
       "      <th>electric_vehicle_charge</th>\n",
       "      <th>comes_furnished</th>\n",
       "      <th>laundry_options</th>\n",
       "      <th>parking_options</th>\n",
       "      <th>image_url</th>\n",
       "      <th>description</th>\n",
       "      <th>lat</th>\n",
       "      <th>long</th>\n",
       "      <th>state</th>\n",
       "    </tr>\n",
       "  </thead>\n",
       "  <tbody>\n",
       "    <tr>\n",
       "      <th>206167</th>\n",
       "      <td>7042543342</td>\n",
       "      <td>https://batonrouge.craigslist.org/apa/d/have-h...</td>\n",
       "      <td>baton rouge</td>\n",
       "      <td>https://batonrouge.craigslist.org</td>\n",
       "      <td>980</td>\n",
       "      <td>apartment</td>\n",
       "      <td>1236</td>\n",
       "      <td>3</td>\n",
       "      <td>2.0</td>\n",
       "      <td>0</td>\n",
       "      <td>...</td>\n",
       "      <td>0</td>\n",
       "      <td>0</td>\n",
       "      <td>0</td>\n",
       "      <td>None</td>\n",
       "      <td>None</td>\n",
       "      <td>https://images.craigslist.org/00l0l_edbq7NVssI...</td>\n",
       "      <td>Live Oak Trace offers the comfortable living e...</td>\n",
       "      <td>102.036</td>\n",
       "      <td>-147.579</td>\n",
       "      <td>la</td>\n",
       "    </tr>\n",
       "    <tr>\n",
       "      <th>62</th>\n",
       "      <td>7030417516</td>\n",
       "      <td>https://worcester.craigslist.org/apa/d/fabulou...</td>\n",
       "      <td>worcester / central MA</td>\n",
       "      <td>https://worcester.craigslist.org</td>\n",
       "      <td>1450</td>\n",
       "      <td>townhouse</td>\n",
       "      <td>1100</td>\n",
       "      <td>2</td>\n",
       "      <td>2.0</td>\n",
       "      <td>0</td>\n",
       "      <td>...</td>\n",
       "      <td>0</td>\n",
       "      <td>0</td>\n",
       "      <td>0</td>\n",
       "      <td>w/d in unit</td>\n",
       "      <td>attached garage</td>\n",
       "      <td>https://images.craigslist.org/00x0x_fAVcu5GCTQ...</td>\n",
       "      <td>A must see. Elegant quiet 2-level townhouse. R...</td>\n",
       "      <td>NaN</td>\n",
       "      <td>NaN</td>\n",
       "      <td>ma</td>\n",
       "    </tr>\n",
       "    <tr>\n",
       "      <th>369</th>\n",
       "      <td>7046724271</td>\n",
       "      <td>https://grandrapids.craigslist.org/apa/d/walk-...</td>\n",
       "      <td>grand rapids</td>\n",
       "      <td>https://grandrapids.craigslist.org</td>\n",
       "      <td>1165</td>\n",
       "      <td>apartment</td>\n",
       "      <td>892</td>\n",
       "      <td>2</td>\n",
       "      <td>1.5</td>\n",
       "      <td>1</td>\n",
       "      <td>...</td>\n",
       "      <td>0</td>\n",
       "      <td>0</td>\n",
       "      <td>0</td>\n",
       "      <td>w/d hookups</td>\n",
       "      <td>None</td>\n",
       "      <td>https://images.craigslist.org/00303_beCkh2Surq...</td>\n",
       "      <td>VIEW OUR WEBSITE:  http://www.clearpointvalley...</td>\n",
       "      <td>NaN</td>\n",
       "      <td>NaN</td>\n",
       "      <td>mi</td>\n",
       "    </tr>\n",
       "    <tr>\n",
       "      <th>501</th>\n",
       "      <td>7046978803</td>\n",
       "      <td>https://denver.craigslist.org/apa/d/1-months-f...</td>\n",
       "      <td>denver</td>\n",
       "      <td>https://denver.craigslist.org</td>\n",
       "      <td>2456</td>\n",
       "      <td>apartment</td>\n",
       "      <td>932</td>\n",
       "      <td>2</td>\n",
       "      <td>2.0</td>\n",
       "      <td>1</td>\n",
       "      <td>...</td>\n",
       "      <td>0</td>\n",
       "      <td>0</td>\n",
       "      <td>0</td>\n",
       "      <td>w/d in unit</td>\n",
       "      <td>attached garage</td>\n",
       "      <td>https://images.craigslist.org/00C0C_6ftesj1piw...</td>\n",
       "      <td>Welcome to Downtown Denvers FIRST Super LUXURY...</td>\n",
       "      <td>NaN</td>\n",
       "      <td>NaN</td>\n",
       "      <td>co</td>\n",
       "    </tr>\n",
       "    <tr>\n",
       "      <th>841</th>\n",
       "      <td>7044475894</td>\n",
       "      <td>https://columbia.craigslist.org/apa/d/view-our...</td>\n",
       "      <td>columbia</td>\n",
       "      <td>https://columbia.craigslist.org</td>\n",
       "      <td>975</td>\n",
       "      <td>apartment</td>\n",
       "      <td>964</td>\n",
       "      <td>2</td>\n",
       "      <td>2.0</td>\n",
       "      <td>1</td>\n",
       "      <td>...</td>\n",
       "      <td>1</td>\n",
       "      <td>0</td>\n",
       "      <td>0</td>\n",
       "      <td>w/d in unit</td>\n",
       "      <td>None</td>\n",
       "      <td>https://images.craigslist.org/01111_5hLMmx4Rdk...</td>\n",
       "      <td>This beautiful gated community is located in C...</td>\n",
       "      <td>NaN</td>\n",
       "      <td>NaN</td>\n",
       "      <td>sc</td>\n",
       "    </tr>\n",
       "  </tbody>\n",
       "</table>\n",
       "<p>5 rows × 22 columns</p>\n",
       "</div>"
      ],
      "text/plain": [
       "                id                                                url  \\\n",
       "206167  7042543342  https://batonrouge.craigslist.org/apa/d/have-h...   \n",
       "62      7030417516  https://worcester.craigslist.org/apa/d/fabulou...   \n",
       "369     7046724271  https://grandrapids.craigslist.org/apa/d/walk-...   \n",
       "501     7046978803  https://denver.craigslist.org/apa/d/1-months-f...   \n",
       "841     7044475894  https://columbia.craigslist.org/apa/d/view-our...   \n",
       "\n",
       "                        region                          region_url  price  \\\n",
       "206167             baton rouge   https://batonrouge.craigslist.org    980   \n",
       "62      worcester / central MA    https://worcester.craigslist.org   1450   \n",
       "369               grand rapids  https://grandrapids.craigslist.org   1165   \n",
       "501                     denver       https://denver.craigslist.org   2456   \n",
       "841                   columbia     https://columbia.craigslist.org    975   \n",
       "\n",
       "             type  sqfeet  beds  baths  cats_allowed  ...  wheelchair_access  \\\n",
       "206167  apartment    1236     3    2.0             0  ...                  0   \n",
       "62      townhouse    1100     2    2.0             0  ...                  0   \n",
       "369     apartment     892     2    1.5             1  ...                  0   \n",
       "501     apartment     932     2    2.0             1  ...                  0   \n",
       "841     apartment     964     2    2.0             1  ...                  1   \n",
       "\n",
       "        electric_vehicle_charge  comes_furnished  laundry_options  \\\n",
       "206167                        0                0             None   \n",
       "62                            0                0      w/d in unit   \n",
       "369                           0                0      w/d hookups   \n",
       "501                           0                0      w/d in unit   \n",
       "841                           0                0      w/d in unit   \n",
       "\n",
       "        parking_options                                          image_url  \\\n",
       "206167             None  https://images.craigslist.org/00l0l_edbq7NVssI...   \n",
       "62      attached garage  https://images.craigslist.org/00x0x_fAVcu5GCTQ...   \n",
       "369                None  https://images.craigslist.org/00303_beCkh2Surq...   \n",
       "501     attached garage  https://images.craigslist.org/00C0C_6ftesj1piw...   \n",
       "841                None  https://images.craigslist.org/01111_5hLMmx4Rdk...   \n",
       "\n",
       "                                              description      lat     long  \\\n",
       "206167  Live Oak Trace offers the comfortable living e...  102.036 -147.579   \n",
       "62      A must see. Elegant quiet 2-level townhouse. R...      NaN      NaN   \n",
       "369     VIEW OUR WEBSITE:  http://www.clearpointvalley...      NaN      NaN   \n",
       "501     Welcome to Downtown Denvers FIRST Super LUXURY...      NaN      NaN   \n",
       "841     This beautiful gated community is located in C...      NaN      NaN   \n",
       "\n",
       "        state  \n",
       "206167     la  \n",
       "62         ma  \n",
       "369        mi  \n",
       "501        co  \n",
       "841        sc  \n",
       "\n",
       "[5 rows x 22 columns]"
      ]
     },
     "execution_count": 145,
     "metadata": {},
     "output_type": "execute_result"
    }
   ],
   "source": [
    "train.iloc[148520:,:].head()"
   ]
  },
  {
   "attachments": {},
   "cell_type": "markdown",
   "metadata": {},
   "source": [
    "Me llevo los valores nulos a otro df para no eliminarlos cuando borre los duplicados."
   ]
  },
  {
   "cell_type": "code",
   "execution_count": 146,
   "metadata": {},
   "outputs": [],
   "source": [
    "df_nan = train.iloc[148521:,:]"
   ]
  },
  {
   "cell_type": "code",
   "execution_count": 147,
   "metadata": {},
   "outputs": [
    {
     "data": {
      "text/html": [
       "<div>\n",
       "<style scoped>\n",
       "    .dataframe tbody tr th:only-of-type {\n",
       "        vertical-align: middle;\n",
       "    }\n",
       "\n",
       "    .dataframe tbody tr th {\n",
       "        vertical-align: top;\n",
       "    }\n",
       "\n",
       "    .dataframe thead th {\n",
       "        text-align: right;\n",
       "    }\n",
       "</style>\n",
       "<table border=\"1\" class=\"dataframe\">\n",
       "  <thead>\n",
       "    <tr style=\"text-align: right;\">\n",
       "      <th></th>\n",
       "      <th>id</th>\n",
       "      <th>url</th>\n",
       "      <th>region</th>\n",
       "      <th>region_url</th>\n",
       "      <th>price</th>\n",
       "      <th>type</th>\n",
       "      <th>sqfeet</th>\n",
       "      <th>beds</th>\n",
       "      <th>baths</th>\n",
       "      <th>cats_allowed</th>\n",
       "      <th>...</th>\n",
       "      <th>wheelchair_access</th>\n",
       "      <th>electric_vehicle_charge</th>\n",
       "      <th>comes_furnished</th>\n",
       "      <th>laundry_options</th>\n",
       "      <th>parking_options</th>\n",
       "      <th>image_url</th>\n",
       "      <th>description</th>\n",
       "      <th>lat</th>\n",
       "      <th>long</th>\n",
       "      <th>state</th>\n",
       "    </tr>\n",
       "  </thead>\n",
       "  <tbody>\n",
       "    <tr>\n",
       "      <th>62</th>\n",
       "      <td>7030417516</td>\n",
       "      <td>https://worcester.craigslist.org/apa/d/fabulou...</td>\n",
       "      <td>worcester / central MA</td>\n",
       "      <td>https://worcester.craigslist.org</td>\n",
       "      <td>1450</td>\n",
       "      <td>townhouse</td>\n",
       "      <td>1100</td>\n",
       "      <td>2</td>\n",
       "      <td>2.0</td>\n",
       "      <td>0</td>\n",
       "      <td>...</td>\n",
       "      <td>0</td>\n",
       "      <td>0</td>\n",
       "      <td>0</td>\n",
       "      <td>w/d in unit</td>\n",
       "      <td>attached garage</td>\n",
       "      <td>https://images.craigslist.org/00x0x_fAVcu5GCTQ...</td>\n",
       "      <td>A must see. Elegant quiet 2-level townhouse. R...</td>\n",
       "      <td>NaN</td>\n",
       "      <td>NaN</td>\n",
       "      <td>ma</td>\n",
       "    </tr>\n",
       "    <tr>\n",
       "      <th>369</th>\n",
       "      <td>7046724271</td>\n",
       "      <td>https://grandrapids.craigslist.org/apa/d/walk-...</td>\n",
       "      <td>grand rapids</td>\n",
       "      <td>https://grandrapids.craigslist.org</td>\n",
       "      <td>1165</td>\n",
       "      <td>apartment</td>\n",
       "      <td>892</td>\n",
       "      <td>2</td>\n",
       "      <td>1.5</td>\n",
       "      <td>1</td>\n",
       "      <td>...</td>\n",
       "      <td>0</td>\n",
       "      <td>0</td>\n",
       "      <td>0</td>\n",
       "      <td>w/d hookups</td>\n",
       "      <td>None</td>\n",
       "      <td>https://images.craigslist.org/00303_beCkh2Surq...</td>\n",
       "      <td>VIEW OUR WEBSITE:  http://www.clearpointvalley...</td>\n",
       "      <td>NaN</td>\n",
       "      <td>NaN</td>\n",
       "      <td>mi</td>\n",
       "    </tr>\n",
       "    <tr>\n",
       "      <th>501</th>\n",
       "      <td>7046978803</td>\n",
       "      <td>https://denver.craigslist.org/apa/d/1-months-f...</td>\n",
       "      <td>denver</td>\n",
       "      <td>https://denver.craigslist.org</td>\n",
       "      <td>2456</td>\n",
       "      <td>apartment</td>\n",
       "      <td>932</td>\n",
       "      <td>2</td>\n",
       "      <td>2.0</td>\n",
       "      <td>1</td>\n",
       "      <td>...</td>\n",
       "      <td>0</td>\n",
       "      <td>0</td>\n",
       "      <td>0</td>\n",
       "      <td>w/d in unit</td>\n",
       "      <td>attached garage</td>\n",
       "      <td>https://images.craigslist.org/00C0C_6ftesj1piw...</td>\n",
       "      <td>Welcome to Downtown Denvers FIRST Super LUXURY...</td>\n",
       "      <td>NaN</td>\n",
       "      <td>NaN</td>\n",
       "      <td>co</td>\n",
       "    </tr>\n",
       "    <tr>\n",
       "      <th>841</th>\n",
       "      <td>7044475894</td>\n",
       "      <td>https://columbia.craigslist.org/apa/d/view-our...</td>\n",
       "      <td>columbia</td>\n",
       "      <td>https://columbia.craigslist.org</td>\n",
       "      <td>975</td>\n",
       "      <td>apartment</td>\n",
       "      <td>964</td>\n",
       "      <td>2</td>\n",
       "      <td>2.0</td>\n",
       "      <td>1</td>\n",
       "      <td>...</td>\n",
       "      <td>1</td>\n",
       "      <td>0</td>\n",
       "      <td>0</td>\n",
       "      <td>w/d in unit</td>\n",
       "      <td>None</td>\n",
       "      <td>https://images.craigslist.org/01111_5hLMmx4Rdk...</td>\n",
       "      <td>This beautiful gated community is located in C...</td>\n",
       "      <td>NaN</td>\n",
       "      <td>NaN</td>\n",
       "      <td>sc</td>\n",
       "    </tr>\n",
       "    <tr>\n",
       "      <th>976</th>\n",
       "      <td>7046827868</td>\n",
       "      <td>https://sarasota.craigslist.org/apa/d/rent-lov...</td>\n",
       "      <td>sarasota-bradenton</td>\n",
       "      <td>https://sarasota.craigslist.org</td>\n",
       "      <td>1800</td>\n",
       "      <td>house</td>\n",
       "      <td>2300</td>\n",
       "      <td>2</td>\n",
       "      <td>1.0</td>\n",
       "      <td>0</td>\n",
       "      <td>...</td>\n",
       "      <td>0</td>\n",
       "      <td>0</td>\n",
       "      <td>1</td>\n",
       "      <td>w/d hookups</td>\n",
       "      <td>attached garage</td>\n",
       "      <td>https://images.craigslist.org/00c0c_4lT5jOKmN7...</td>\n",
       "      <td>We have a beautiful 2 large bedroom 1bath home...</td>\n",
       "      <td>NaN</td>\n",
       "      <td>NaN</td>\n",
       "      <td>fl</td>\n",
       "    </tr>\n",
       "  </tbody>\n",
       "</table>\n",
       "<p>5 rows × 22 columns</p>\n",
       "</div>"
      ],
      "text/plain": [
       "             id                                                url  \\\n",
       "62   7030417516  https://worcester.craigslist.org/apa/d/fabulou...   \n",
       "369  7046724271  https://grandrapids.craigslist.org/apa/d/walk-...   \n",
       "501  7046978803  https://denver.craigslist.org/apa/d/1-months-f...   \n",
       "841  7044475894  https://columbia.craigslist.org/apa/d/view-our...   \n",
       "976  7046827868  https://sarasota.craigslist.org/apa/d/rent-lov...   \n",
       "\n",
       "                     region                          region_url  price  \\\n",
       "62   worcester / central MA    https://worcester.craigslist.org   1450   \n",
       "369            grand rapids  https://grandrapids.craigslist.org   1165   \n",
       "501                  denver       https://denver.craigslist.org   2456   \n",
       "841                columbia     https://columbia.craigslist.org    975   \n",
       "976      sarasota-bradenton     https://sarasota.craigslist.org   1800   \n",
       "\n",
       "          type  sqfeet  beds  baths  cats_allowed  ...  wheelchair_access  \\\n",
       "62   townhouse    1100     2    2.0             0  ...                  0   \n",
       "369  apartment     892     2    1.5             1  ...                  0   \n",
       "501  apartment     932     2    2.0             1  ...                  0   \n",
       "841  apartment     964     2    2.0             1  ...                  1   \n",
       "976      house    2300     2    1.0             0  ...                  0   \n",
       "\n",
       "     electric_vehicle_charge  comes_furnished  laundry_options  \\\n",
       "62                         0                0      w/d in unit   \n",
       "369                        0                0      w/d hookups   \n",
       "501                        0                0      w/d in unit   \n",
       "841                        0                0      w/d in unit   \n",
       "976                        0                1      w/d hookups   \n",
       "\n",
       "     parking_options                                          image_url  \\\n",
       "62   attached garage  https://images.craigslist.org/00x0x_fAVcu5GCTQ...   \n",
       "369             None  https://images.craigslist.org/00303_beCkh2Surq...   \n",
       "501  attached garage  https://images.craigslist.org/00C0C_6ftesj1piw...   \n",
       "841             None  https://images.craigslist.org/01111_5hLMmx4Rdk...   \n",
       "976  attached garage  https://images.craigslist.org/00c0c_4lT5jOKmN7...   \n",
       "\n",
       "                                           description lat long  state  \n",
       "62   A must see. Elegant quiet 2-level townhouse. R... NaN  NaN     ma  \n",
       "369  VIEW OUR WEBSITE:  http://www.clearpointvalley... NaN  NaN     mi  \n",
       "501  Welcome to Downtown Denvers FIRST Super LUXURY... NaN  NaN     co  \n",
       "841  This beautiful gated community is located in C... NaN  NaN     sc  \n",
       "976  We have a beautiful 2 large bedroom 1bath home... NaN  NaN     fl  \n",
       "\n",
       "[5 rows x 22 columns]"
      ]
     },
     "execution_count": 147,
     "metadata": {},
     "output_type": "execute_result"
    }
   ],
   "source": [
    "df_nan.head()"
   ]
  },
  {
   "cell_type": "code",
   "execution_count": 148,
   "metadata": {},
   "outputs": [],
   "source": [
    "train.drop_duplicates(subset = ['lat','long'] , inplace = True)"
   ]
  },
  {
   "cell_type": "code",
   "execution_count": 149,
   "metadata": {},
   "outputs": [
    {
     "data": {
      "text/plain": [
       "(63527, 22)"
      ]
     },
     "execution_count": 149,
     "metadata": {},
     "output_type": "execute_result"
    }
   ],
   "source": [
    "train.shape"
   ]
  },
  {
   "cell_type": "code",
   "execution_count": 150,
   "metadata": {},
   "outputs": [
    {
     "name": "stderr",
     "output_type": "stream",
     "text": [
      "C:\\Users\\VAIO\\AppData\\Local\\Temp\\ipykernel_2896\\3443042328.py:1: FutureWarning: The frame.append method is deprecated and will be removed from pandas in a future version. Use pandas.concat instead.\n",
      "  train = train.append(df_nan)\n"
     ]
    }
   ],
   "source": [
    "train = train.append(df_nan)"
   ]
  },
  {
   "attachments": {},
   "cell_type": "markdown",
   "metadata": {},
   "source": [
    "Verifico que se sumaron los 842 registros."
   ]
  },
  {
   "cell_type": "code",
   "execution_count": 151,
   "metadata": {},
   "outputs": [
    {
     "data": {
      "text/plain": [
       "(64369, 22)"
      ]
     },
     "execution_count": 151,
     "metadata": {},
     "output_type": "execute_result"
    }
   ],
   "source": [
    "train.shape"
   ]
  },
  {
   "attachments": {},
   "cell_type": "markdown",
   "metadata": {},
   "source": [
    "Así unificamos el dataframe nuevamente y ahora contamos con una muestra libre de duplicados. Haber pasado por alto este paso de EDA hubiera sido trágico para nuestras aspiraciones de entrenar un modelo que nos diera concusiones claras."
   ]
  },
  {
   "attachments": {},
   "cell_type": "markdown",
   "metadata": {},
   "source": [
    "### ANÁLISIS DE FALTANTES"
   ]
  },
  {
   "cell_type": "code",
   "execution_count": 152,
   "metadata": {},
   "outputs": [
    {
     "data": {
      "text/plain": [
       "id                             0\n",
       "url                            0\n",
       "region                         0\n",
       "region_url                     0\n",
       "price                          0\n",
       "type                           0\n",
       "sqfeet                         0\n",
       "beds                           0\n",
       "baths                          0\n",
       "cats_allowed                   0\n",
       "dogs_allowed                   0\n",
       "smoking_allowed                0\n",
       "wheelchair_access              0\n",
       "electric_vehicle_charge        0\n",
       "comes_furnished                0\n",
       "laundry_options             8362\n",
       "parking_options            14081\n",
       "image_url                      0\n",
       "description                    0\n",
       "lat                          843\n",
       "long                         843\n",
       "state                          0\n",
       "dtype: int64"
      ]
     },
     "execution_count": 152,
     "metadata": {},
     "output_type": "execute_result"
    }
   ],
   "source": [
    "train.isnull().sum()"
   ]
  },
  {
   "attachments": {},
   "cell_type": "markdown",
   "metadata": {},
   "source": [
    "*parking_options*"
   ]
  },
  {
   "attachments": {},
   "cell_type": "markdown",
   "metadata": {},
   "source": [
    "Los datos faltantes representan el 21.75% de los datos de la prueba. Voy a tomar la decisión de no asignarlos a categoríá alguna, ya que sesgarían considerablemente la distribución hacia esa categoría y les daré el valor de 'NA' (not available)."
   ]
  },
  {
   "cell_type": "code",
   "execution_count": 153,
   "metadata": {},
   "outputs": [
    {
     "data": {
      "text/plain": [
       "off-street parking    23735\n",
       "attached garage       12096\n",
       "carport                5948\n",
       "detached garage        4052\n",
       "street parking         3993\n",
       "no parking              388\n",
       "valet parking            76\n",
       "Name: parking_options, dtype: int64"
      ]
     },
     "execution_count": 153,
     "metadata": {},
     "output_type": "execute_result"
    }
   ],
   "source": [
    "train['parking_options'].value_counts()"
   ]
  },
  {
   "cell_type": "code",
   "execution_count": 154,
   "metadata": {},
   "outputs": [
    {
     "data": {
      "text/html": [
       "<div>\n",
       "<style scoped>\n",
       "    .dataframe tbody tr th:only-of-type {\n",
       "        vertical-align: middle;\n",
       "    }\n",
       "\n",
       "    .dataframe tbody tr th {\n",
       "        vertical-align: top;\n",
       "    }\n",
       "\n",
       "    .dataframe thead th {\n",
       "        text-align: right;\n",
       "    }\n",
       "</style>\n",
       "<table border=\"1\" class=\"dataframe\">\n",
       "  <thead>\n",
       "    <tr style=\"text-align: right;\">\n",
       "      <th></th>\n",
       "      <th>id</th>\n",
       "      <th>url</th>\n",
       "      <th>region</th>\n",
       "      <th>region_url</th>\n",
       "      <th>price</th>\n",
       "      <th>type</th>\n",
       "      <th>sqfeet</th>\n",
       "      <th>beds</th>\n",
       "      <th>baths</th>\n",
       "      <th>cats_allowed</th>\n",
       "      <th>...</th>\n",
       "      <th>wheelchair_access</th>\n",
       "      <th>electric_vehicle_charge</th>\n",
       "      <th>comes_furnished</th>\n",
       "      <th>laundry_options</th>\n",
       "      <th>parking_options</th>\n",
       "      <th>image_url</th>\n",
       "      <th>description</th>\n",
       "      <th>lat</th>\n",
       "      <th>long</th>\n",
       "      <th>state</th>\n",
       "    </tr>\n",
       "  </thead>\n",
       "  <tbody>\n",
       "  </tbody>\n",
       "</table>\n",
       "<p>0 rows × 22 columns</p>\n",
       "</div>"
      ],
      "text/plain": [
       "Empty DataFrame\n",
       "Columns: [id, url, region, region_url, price, type, sqfeet, beds, baths, cats_allowed, dogs_allowed, smoking_allowed, wheelchair_access, electric_vehicle_charge, comes_furnished, laundry_options, parking_options, image_url, description, lat, long, state]\n",
       "Index: []\n",
       "\n",
       "[0 rows x 22 columns]"
      ]
     },
     "execution_count": 154,
     "metadata": {},
     "output_type": "execute_result"
    }
   ],
   "source": [
    "train[train['parking_options']==None]"
   ]
  },
  {
   "cell_type": "code",
   "execution_count": 155,
   "metadata": {},
   "outputs": [],
   "source": [
    "train['parking_options'].fillna('NA',inplace=True)"
   ]
  },
  {
   "attachments": {},
   "cell_type": "markdown",
   "metadata": {},
   "source": [
    "*laundry_options*"
   ]
  },
  {
   "attachments": {},
   "cell_type": "markdown",
   "metadata": {},
   "source": [
    "Seguiremos el mismo criterio que en el caso ut-supra."
   ]
  },
  {
   "cell_type": "code",
   "execution_count": 156,
   "metadata": {},
   "outputs": [
    {
     "data": {
      "text/plain": [
       "w/d in unit           24527\n",
       "w/d hookups           13640\n",
       "laundry on site        8078\n",
       "laundry in bldg        7997\n",
       "no laundry on site     1765\n",
       "Name: laundry_options, dtype: int64"
      ]
     },
     "execution_count": 156,
     "metadata": {},
     "output_type": "execute_result"
    }
   ],
   "source": [
    "train['laundry_options'].value_counts()"
   ]
  },
  {
   "cell_type": "code",
   "execution_count": 157,
   "metadata": {},
   "outputs": [],
   "source": [
    "train['laundry_options'].fillna('NA',inplace=True)"
   ]
  },
  {
   "attachments": {},
   "cell_type": "markdown",
   "metadata": {},
   "source": [
    "### *ANÁLISIS DE VARIABLES - DISTRIBUCIÓN, CORRELACIÓN Y BUSQUEDA DE OUTLIERS*"
   ]
  },
  {
   "attachments": {},
   "cell_type": "markdown",
   "metadata": {},
   "source": [
    "Ante todo realizaré un histograma de todas las variables para tener un pantallazo general de la situacíon. Hay variables que no figurarán en los plots, debido a que son categóricas. Más adelante abordaremos esa temática y luego plantearemos un plot con las variables \"pulidas\"."
   ]
  },
  {
   "cell_type": "code",
   "execution_count": 158,
   "metadata": {},
   "outputs": [
    {
     "data": {
      "text/plain": [
       "array([[<AxesSubplot: title={'center': 'id'}>,\n",
       "        <AxesSubplot: title={'center': 'price'}>,\n",
       "        <AxesSubplot: title={'center': 'sqfeet'}>,\n",
       "        <AxesSubplot: title={'center': 'beds'}>],\n",
       "       [<AxesSubplot: title={'center': 'baths'}>,\n",
       "        <AxesSubplot: title={'center': 'cats_allowed'}>,\n",
       "        <AxesSubplot: title={'center': 'dogs_allowed'}>,\n",
       "        <AxesSubplot: title={'center': 'smoking_allowed'}>],\n",
       "       [<AxesSubplot: title={'center': 'wheelchair_access'}>,\n",
       "        <AxesSubplot: title={'center': 'electric_vehicle_charge'}>,\n",
       "        <AxesSubplot: title={'center': 'comes_furnished'}>,\n",
       "        <AxesSubplot: title={'center': 'lat'}>],\n",
       "       [<AxesSubplot: title={'center': 'long'}>, <AxesSubplot: >,\n",
       "        <AxesSubplot: >, <AxesSubplot: >]], dtype=object)"
      ]
     },
     "execution_count": 158,
     "metadata": {},
     "output_type": "execute_result"
    },
    {
     "data": {
      "image/png": "[encoded data removed]",
      "text/plain": [
       "<Figure size 2000x1500 with 16 Axes>"
      ]
     },
     "metadata": {},
     "output_type": "display_data"
    }
   ],
   "source": [
    "train.hist(bins=30 , figsize=(20,15))"
   ]
  },
  {
   "attachments": {},
   "cell_type": "markdown",
   "metadata": {},
   "source": [
    "Este gráfico general sirve para tener un panorama de la distribución de los datos y trazar una dirección de trabajo. A primera vista, vemos que las variables dummies demuestran la distribución esperada. Corroboraremos que todos sus datos son efectivamente 0 o 1."
   ]
  },
  {
   "cell_type": "code",
   "execution_count": 159,
   "metadata": {},
   "outputs": [
    {
     "data": {
      "text/plain": [
       "1    37496\n",
       "0    26873\n",
       "Name: cats_allowed, dtype: int64"
      ]
     },
     "execution_count": 159,
     "metadata": {},
     "output_type": "execute_result"
    }
   ],
   "source": [
    "train['cats_allowed'].value_counts()"
   ]
  },
  {
   "cell_type": "code",
   "execution_count": 160,
   "metadata": {},
   "outputs": [
    {
     "data": {
      "text/plain": [
       "1    35770\n",
       "0    28599\n",
       "Name: dogs_allowed, dtype: int64"
      ]
     },
     "execution_count": 160,
     "metadata": {},
     "output_type": "execute_result"
    }
   ],
   "source": [
    "train['dogs_allowed'].value_counts()"
   ]
  },
  {
   "cell_type": "code",
   "execution_count": 161,
   "metadata": {},
   "outputs": [
    {
     "data": {
      "text/plain": [
       "1    36692\n",
       "0    27677\n",
       "Name: smoking_allowed, dtype: int64"
      ]
     },
     "execution_count": 161,
     "metadata": {},
     "output_type": "execute_result"
    }
   ],
   "source": [
    "train['smoking_allowed'].value_counts()"
   ]
  },
  {
   "cell_type": "code",
   "execution_count": 162,
   "metadata": {},
   "outputs": [
    {
     "data": {
      "text/plain": [
       "0    59857\n",
       "1     4512\n",
       "Name: wheelchair_access, dtype: int64"
      ]
     },
     "execution_count": 162,
     "metadata": {},
     "output_type": "execute_result"
    }
   ],
   "source": [
    "train['wheelchair_access'].value_counts()"
   ]
  },
  {
   "cell_type": "code",
   "execution_count": 163,
   "metadata": {},
   "outputs": [
    {
     "data": {
      "text/plain": [
       "0    59453\n",
       "1     4916\n",
       "Name: comes_furnished, dtype: int64"
      ]
     },
     "execution_count": 163,
     "metadata": {},
     "output_type": "execute_result"
    }
   ],
   "source": [
    "train['comes_furnished'].value_counts()"
   ]
  },
  {
   "cell_type": "code",
   "execution_count": 164,
   "metadata": {},
   "outputs": [
    {
     "data": {
      "text/plain": [
       "0    63173\n",
       "1     1196\n",
       "Name: electric_vehicle_charge, dtype: int64"
      ]
     },
     "execution_count": 164,
     "metadata": {},
     "output_type": "execute_result"
    }
   ],
   "source": [
    "train['electric_vehicle_charge'].value_counts()"
   ]
  },
  {
   "attachments": {},
   "cell_type": "markdown",
   "metadata": {},
   "source": [
    "Por otra parte, en las demás variables puedo inferir debido al tamaño de las escalas, que en varias de ellas tenemos la presencia de outliers.\n",
    "Procederemos a trabajar sobre cada una de las variables de forma individual."
   ]
  },
  {
   "attachments": {},
   "cell_type": "markdown",
   "metadata": {},
   "source": [
    "*Variable price*"
   ]
  },
  {
   "attachments": {},
   "cell_type": "markdown",
   "metadata": {},
   "source": [
    "La consigna pide implementar una transformación en el Dataframe en la cual se debe agregar una columna categórica que clasifique los precios de las propiedades en low, medium y high. Procedo a hacerlo ahora para dejar el Dataframe listo."
   ]
  },
  {
   "cell_type": "code",
   "execution_count": 165,
   "metadata": {},
   "outputs": [
    {
     "data": {
      "text/html": [
       "<div>\n",
       "<style scoped>\n",
       "    .dataframe tbody tr th:only-of-type {\n",
       "        vertical-align: middle;\n",
       "    }\n",
       "\n",
       "    .dataframe tbody tr th {\n",
       "        vertical-align: top;\n",
       "    }\n",
       "\n",
       "    .dataframe thead th {\n",
       "        text-align: right;\n",
       "    }\n",
       "</style>\n",
       "<table border=\"1\" class=\"dataframe\">\n",
       "  <thead>\n",
       "    <tr style=\"text-align: right;\">\n",
       "      <th></th>\n",
       "      <th>id</th>\n",
       "      <th>url</th>\n",
       "      <th>region</th>\n",
       "      <th>region_url</th>\n",
       "      <th>price</th>\n",
       "      <th>type</th>\n",
       "      <th>sqfeet</th>\n",
       "      <th>beds</th>\n",
       "      <th>baths</th>\n",
       "      <th>cats_allowed</th>\n",
       "      <th>...</th>\n",
       "      <th>wheelchair_access</th>\n",
       "      <th>electric_vehicle_charge</th>\n",
       "      <th>comes_furnished</th>\n",
       "      <th>laundry_options</th>\n",
       "      <th>parking_options</th>\n",
       "      <th>image_url</th>\n",
       "      <th>description</th>\n",
       "      <th>lat</th>\n",
       "      <th>long</th>\n",
       "      <th>state</th>\n",
       "    </tr>\n",
       "  </thead>\n",
       "  <tbody>\n",
       "  </tbody>\n",
       "</table>\n",
       "<p>0 rows × 22 columns</p>\n",
       "</div>"
      ],
      "text/plain": [
       "Empty DataFrame\n",
       "Columns: [id, url, region, region_url, price, type, sqfeet, beds, baths, cats_allowed, dogs_allowed, smoking_allowed, wheelchair_access, electric_vehicle_charge, comes_furnished, laundry_options, parking_options, image_url, description, lat, long, state]\n",
       "Index: []\n",
       "\n",
       "[0 rows x 22 columns]"
      ]
     },
     "execution_count": 165,
     "metadata": {},
     "output_type": "execute_result"
    }
   ],
   "source": [
    "train.loc[train['price'] == 'NA']"
   ]
  },
  {
   "attachments": {},
   "cell_type": "markdown",
   "metadata": {},
   "source": [
    "Elimino todos los valores 'NA' encontrados."
   ]
  },
  {
   "cell_type": "code",
   "execution_count": 166,
   "metadata": {},
   "outputs": [],
   "source": [
    "train.drop(train[train['price'] == 'NA'].index , inplace=True)"
   ]
  },
  {
   "attachments": {},
   "cell_type": "markdown",
   "metadata": {},
   "source": [
    "Debido a cambios en las especificaciones del pedido, aquellos registros en los cuales la columna price tome valores inferiores a 1000, llevarán el valor category_price de 1. Los demás valores llevarán el valor cero."
   ]
  },
  {
   "cell_type": "code",
   "execution_count": 167,
   "metadata": {},
   "outputs": [],
   "source": [
    "condiciones = [(train['price'] <= 999) , (train['price'] > 999)]\n",
    "valores = ['1','0']\n",
    "train['category_price'] = np.select(condiciones, valores)"
   ]
  },
  {
   "cell_type": "code",
   "execution_count": 168,
   "metadata": {},
   "outputs": [
    {
     "data": {
      "text/plain": [
       "0    40058\n",
       "1    24311\n",
       "Name: category_price, dtype: int64"
      ]
     },
     "execution_count": 168,
     "metadata": {},
     "output_type": "execute_result"
    }
   ],
   "source": [
    "train['category_price'].value_counts()"
   ]
  },
  {
   "cell_type": "code",
   "execution_count": 169,
   "metadata": {},
   "outputs": [
    {
     "data": {
      "text/plain": [
       "<AxesSubplot: ylabel='price'>"
      ]
     },
     "execution_count": 169,
     "metadata": {},
     "output_type": "execute_result"
    },
    {
     "data": {
      "image/png": "[encoded data removed]",
      "text/plain": [
       "<Figure size 640x480 with 1 Axes>"
      ]
     },
     "metadata": {},
     "output_type": "display_data"
    }
   ],
   "source": [
    "sns.scatterplot(train['price'])"
   ]
  },
  {
   "attachments": {},
   "cell_type": "markdown",
   "metadata": {},
   "source": [
    "Facilmente podemos identificar que hay valores que están totalmente por fuera de los valores de la realidad. Vamos a identificarlos y evaluarlos."
   ]
  },
  {
   "cell_type": "code",
   "execution_count": 170,
   "metadata": {},
   "outputs": [
    {
     "data": {
      "text/plain": [
       "11"
      ]
     },
     "execution_count": 170,
     "metadata": {},
     "output_type": "execute_result"
    }
   ],
   "source": [
    "train[train['price'] > 500000].shape[0]"
   ]
  },
  {
   "attachments": {},
   "cell_type": "markdown",
   "metadata": {},
   "source": [
    "Algunas de esas propiedades podrían efectivamente tener ese valor de mercado. Sin embargo, como son pocas, las separaré de la muestra."
   ]
  },
  {
   "cell_type": "code",
   "execution_count": 171,
   "metadata": {},
   "outputs": [],
   "source": [
    "train.drop(train[train['price'] > 500000].index , inplace=True)"
   ]
  },
  {
   "attachments": {},
   "cell_type": "markdown",
   "metadata": {},
   "source": [
    "Liberados de los outliers extremadamente grandes, podemos ver ahora los valores realmente bajos."
   ]
  },
  {
   "cell_type": "code",
   "execution_count": 172,
   "metadata": {},
   "outputs": [
    {
     "data": {
      "text/plain": [
       "137726         0\n",
       "76545          0\n",
       "139194         0\n",
       "199881         0\n",
       "37743          0\n",
       "           ...  \n",
       "245764    391000\n",
       "336190    409429\n",
       "6288      430000\n",
       "132544    450000\n",
       "185615    479000\n",
       "Name: price, Length: 64358, dtype: int64"
      ]
     },
     "execution_count": 172,
     "metadata": {},
     "output_type": "execute_result"
    }
   ],
   "source": [
    "train['price'].sort_values()"
   ]
  },
  {
   "cell_type": "code",
   "execution_count": 173,
   "metadata": {},
   "outputs": [
    {
     "data": {
      "text/plain": [
       "205"
      ]
     },
     "execution_count": 173,
     "metadata": {},
     "output_type": "execute_result"
    }
   ],
   "source": [
    "train.loc[train['price'] == 0].shape[0]"
   ]
  },
  {
   "attachments": {},
   "cell_type": "markdown",
   "metadata": {},
   "source": [
    "Reemplazo los valores en cero por la mediana de la distribución. Son pocos valores y no afectará significativamente a la muestras."
   ]
  },
  {
   "cell_type": "code",
   "execution_count": 174,
   "metadata": {},
   "outputs": [],
   "source": [
    "train.loc[train['price'] == 0] = train['price'].median()"
   ]
  },
  {
   "attachments": {},
   "cell_type": "markdown",
   "metadata": {},
   "source": [
    "*Variable sqfeet*"
   ]
  },
  {
   "cell_type": "code",
   "execution_count": 175,
   "metadata": {},
   "outputs": [
    {
     "data": {
      "text/plain": [
       "<AxesSubplot: ylabel='sqfeet'>"
      ]
     },
     "execution_count": 175,
     "metadata": {},
     "output_type": "execute_result"
    },
    {
     "data": {
      "image/png": "[encoded data removed]",
      "text/plain": [
       "<Figure size 640x480 with 1 Axes>"
      ]
     },
     "metadata": {},
     "output_type": "display_data"
    }
   ],
   "source": [
    "sns.scatterplot(train['sqfeet'])"
   ]
  },
  {
   "cell_type": "code",
   "execution_count": 176,
   "metadata": {},
   "outputs": [
    {
     "data": {
      "text/plain": [
       "249237    8388607\n",
       "141803    1019856\n",
       "47651     1019856\n",
       "183230     999999\n",
       "100773      99204\n",
       "           ...   \n",
       "82353           0\n",
       "124652          0\n",
       "285026          0\n",
       "181344          0\n",
       "187054          0\n",
       "Name: sqfeet, Length: 64358, dtype: int64"
      ]
     },
     "execution_count": 176,
     "metadata": {},
     "output_type": "execute_result"
    }
   ],
   "source": [
    "train['sqfeet'].sort_values(ascending=False)"
   ]
  },
  {
   "cell_type": "code",
   "execution_count": 177,
   "metadata": {},
   "outputs": [],
   "source": [
    "train.drop(train[train['sqfeet'] > 500000].index , inplace=True)"
   ]
  },
  {
   "attachments": {},
   "cell_type": "markdown",
   "metadata": {},
   "source": [
    "Cuento cuantos valores son cero. Al ver que son 20, para no perder los registros, decido completarlos con la mediana de la distribución."
   ]
  },
  {
   "cell_type": "code",
   "execution_count": 178,
   "metadata": {},
   "outputs": [
    {
     "data": {
      "text/plain": [
       "19"
      ]
     },
     "execution_count": 178,
     "metadata": {},
     "output_type": "execute_result"
    }
   ],
   "source": [
    "train.loc[train['sqfeet'] == 0].shape[0]"
   ]
  },
  {
   "cell_type": "code",
   "execution_count": 179,
   "metadata": {},
   "outputs": [],
   "source": [
    "train.loc[train['sqfeet'] == 0] = train['sqfeet'].median()"
   ]
  },
  {
   "attachments": {},
   "cell_type": "markdown",
   "metadata": {},
   "source": [
    "*Variable beds*"
   ]
  },
  {
   "cell_type": "code",
   "execution_count": 180,
   "metadata": {},
   "outputs": [
    {
     "data": {
      "text/plain": [
       "<AxesSubplot: ylabel='beds'>"
      ]
     },
     "execution_count": 180,
     "metadata": {},
     "output_type": "execute_result"
    },
    {
     "data": {
      "image/png": "[encoded data removed]",
      "text/plain": [
       "<Figure size 640x480 with 1 Axes>"
      ]
     },
     "metadata": {},
     "output_type": "display_data"
    }
   ],
   "source": [
    "sns.scatterplot(train['beds'])"
   ]
  },
  {
   "cell_type": "code",
   "execution_count": 181,
   "metadata": {},
   "outputs": [
    {
     "data": {
      "text/plain": [
       "166418    1185\n",
       "324614    1185\n",
       "64902     1185\n",
       "343812    1185\n",
       "132791    1185\n",
       "          ... \n",
       "337648       0\n",
       "343268       0\n",
       "78652        0\n",
       "306252       0\n",
       "104151       0\n",
       "Name: beds, Length: 64354, dtype: int64"
      ]
     },
     "execution_count": 181,
     "metadata": {},
     "output_type": "execute_result"
    }
   ],
   "source": [
    "train['beds'].sort_values(ascending=False)"
   ]
  },
  {
   "cell_type": "code",
   "execution_count": 182,
   "metadata": {},
   "outputs": [
    {
     "data": {
      "text/plain": [
       "2       24909\n",
       "1       16187\n",
       "3       15520\n",
       "4        4088\n",
       "0        1943\n",
       "5        1327\n",
       "1185      205\n",
       "6         115\n",
       "7          26\n",
       "1000       20\n",
       "8          13\n",
       "1100        1\n",
       "Name: beds, dtype: int64"
      ]
     },
     "execution_count": 182,
     "metadata": {},
     "output_type": "execute_result"
    }
   ],
   "source": [
    "train['beds'].value_counts()"
   ]
  },
  {
   "attachments": {},
   "cell_type": "markdown",
   "metadata": {},
   "source": [
    "Veo que hasta 8 habitaciones, es algo lógico. Los valores por encima de 1000 son errores de carga y los reemplazaré por 1 (un habitación)."
   ]
  },
  {
   "cell_type": "code",
   "execution_count": 183,
   "metadata": {},
   "outputs": [],
   "source": [
    "train.loc[train['beds'] >= 1000] = 1"
   ]
  },
  {
   "attachments": {},
   "cell_type": "markdown",
   "metadata": {},
   "source": [
    "*Variable baths*"
   ]
  },
  {
   "cell_type": "code",
   "execution_count": 184,
   "metadata": {},
   "outputs": [
    {
     "data": {
      "text/plain": [
       "<AxesSubplot: ylabel='baths'>"
      ]
     },
     "execution_count": 184,
     "metadata": {},
     "output_type": "execute_result"
    },
    {
     "data": {
      "image/png": "[encoded data removed]",
      "text/plain": [
       "<Figure size 640x480 with 1 Axes>"
      ]
     },
     "metadata": {},
     "output_type": "display_data"
    }
   ],
   "source": [
    "sns.scatterplot(train['baths'])"
   ]
  },
  {
   "cell_type": "code",
   "execution_count": 185,
   "metadata": {},
   "outputs": [
    {
     "data": {
      "text/plain": [
       "1.0    33488\n",
       "2.0    19254\n",
       "1.5     4946\n",
       "2.5     3890\n",
       "3.0     1404\n",
       "0.0      595\n",
       "3.5      417\n",
       "4.0      242\n",
       "4.5       58\n",
       "5.0       27\n",
       "5.5       15\n",
       "6.0       11\n",
       "6.5        3\n",
       "7.0        2\n",
       "7.5        1\n",
       "8.0        1\n",
       "Name: baths, dtype: int64"
      ]
     },
     "execution_count": 185,
     "metadata": {},
     "output_type": "execute_result"
    }
   ],
   "source": [
    "train['baths'].value_counts()"
   ]
  },
  {
   "attachments": {},
   "cell_type": "markdown",
   "metadata": {},
   "source": [
    "Todo parece estar bajo control y correcto con esta variable. Suele considerarse el 0.5 que acompaña al valor entero del baño como un antebaño."
   ]
  },
  {
   "attachments": {},
   "cell_type": "markdown",
   "metadata": {},
   "source": [
    "*Variables lat y long*"
   ]
  },
  {
   "attachments": {},
   "cell_type": "markdown",
   "metadata": {},
   "source": [
    "Ya hemos trabajado previamente de forma exhaustiva sobre este campo cuando realizamos la limpieza de duplicados. Ahora veremos sobre un mapa la distribución de las coordenadas para identificar la distribución geográfica de la muestra."
   ]
  },
  {
   "cell_type": "code",
   "execution_count": 186,
   "metadata": {},
   "outputs": [
    {
     "data": {
      "text/plain": [
       "<AxesSubplot: xlabel='lat', ylabel='long'>"
      ]
     },
     "execution_count": 186,
     "metadata": {},
     "output_type": "execute_result"
    },
    {
     "data": {
      "image/png": "[encoded data removed]",
      "text/plain": [
       "<Figure size 640x480 with 1 Axes>"
      ]
     },
     "metadata": {},
     "output_type": "display_data"
    }
   ],
   "source": [
    "train.plot(kind='scatter', x='lat',y='long')"
   ]
  },
  {
   "attachments": {},
   "cell_type": "markdown",
   "metadata": {},
   "source": [
    "Vemos que posiblemente tengamos algún valor que no se corresponde con el territorio de USA. Para estar seguros, trabajaré en un anexo a este cuaderno llamado \"mapa.ipynb\" para optimizar el trabajo, ya que debo renunciar a varias columnas sin valores de ubicación para plottear el mapa."
   ]
  },
  {
   "cell_type": "code",
   "execution_count": 187,
   "metadata": {},
   "outputs": [],
   "source": [
    "df_mapa = train"
   ]
  },
  {
   "cell_type": "code",
   "execution_count": 188,
   "metadata": {},
   "outputs": [],
   "source": [
    "df_mapa.to_csv('dfm.csv')"
   ]
  },
  {
   "attachments": {},
   "cell_type": "markdown",
   "metadata": {},
   "source": [
    "Con los datos obtenidos en el cuaderno auxiliar, procedemos a eliminar los registros considerados outliers."
   ]
  },
  {
   "cell_type": "code",
   "execution_count": 189,
   "metadata": {},
   "outputs": [],
   "source": [
    "train.drop(train[train['price'] == 'NA'].index , inplace=True)"
   ]
  },
  {
   "cell_type": "code",
   "execution_count": 190,
   "metadata": {},
   "outputs": [
    {
     "data": {
      "text/plain": [
       "64354"
      ]
     },
     "execution_count": 190,
     "metadata": {},
     "output_type": "execute_result"
    }
   ],
   "source": [
    "train.shape[0]"
   ]
  },
  {
   "cell_type": "code",
   "execution_count": 191,
   "metadata": {},
   "outputs": [],
   "source": [
    "train.drop(train[train['lat'] > 67.2264].index , inplace=True)\n",
    "train.drop(train[train['lat'] < 20.6973].index , inplace=True)\n",
    "train.drop(train[train['long'] > -60.4121].index , inplace=True)\n",
    "train.drop(train[train['long'] < -154.2793].index , inplace=True)"
   ]
  },
  {
   "attachments": {},
   "cell_type": "markdown",
   "metadata": {},
   "source": [
    "Efectivamente corroboramos que los outliers fueron correctamente eliminados."
   ]
  },
  {
   "cell_type": "code",
   "execution_count": 192,
   "metadata": {},
   "outputs": [
    {
     "data": {
      "text/plain": [
       "63297"
      ]
     },
     "execution_count": 192,
     "metadata": {},
     "output_type": "execute_result"
    }
   ],
   "source": [
    "train.shape[0]"
   ]
  },
  {
   "attachments": {},
   "cell_type": "markdown",
   "metadata": {},
   "source": [
    "### *TRATAMIENTO DE VARIABLES CATEGÓRICAS*"
   ]
  },
  {
   "attachments": {},
   "cell_type": "markdown",
   "metadata": {},
   "source": [
    "El modelo nos provee 6 variables categóricas: state, type, region, region url, url y description. Las últimas tres hacen referencia a cuestiones operativas de la publicación del aviso de venta de la propiedad, por lo cual son irrelevante para el modelo y por ello las elimino directamente para disminuir el llamado Efecto Hughes.\n",
    "Respecto de las primeras 3 variables, infiero que pueden ser importantes, aunque a priori sospecho que state y region son redundantes.\n",
    "Una vez pulida la data, transformaré las columnas categóricas a valores numéricos para disponibilizarlos para análisis posterior."
   ]
  },
  {
   "attachments": {},
   "cell_type": "markdown",
   "metadata": {},
   "source": [
    "*Variable type*"
   ]
  },
  {
   "cell_type": "code",
   "execution_count": 193,
   "metadata": {},
   "outputs": [
    {
     "data": {
      "text/plain": [
       "apartment          38474\n",
       "house              14031\n",
       "townhouse           3376\n",
       "condo               2818\n",
       "duplex              2463\n",
       "manufactured        1282\n",
       "cottage/cabin        382\n",
       "flat                 198\n",
       "loft                 177\n",
       "in-law                89\n",
       "land                   5\n",
       "assisted living        2\n",
       "Name: type, dtype: int64"
      ]
     },
     "execution_count": 193,
     "metadata": {},
     "output_type": "execute_result"
    }
   ],
   "source": [
    "train['type'].value_counts()\n"
   ]
  },
  {
   "cell_type": "code",
   "execution_count": 194,
   "metadata": {},
   "outputs": [],
   "source": [
    "train.loc[train['type'] == 1] = 'NA'"
   ]
  },
  {
   "cell_type": "code",
   "execution_count": 195,
   "metadata": {},
   "outputs": [
    {
     "data": {
      "text/plain": [
       "<AxesSubplot: ylabel='type'>"
      ]
     },
     "execution_count": 195,
     "metadata": {},
     "output_type": "execute_result"
    },
    {
     "data": {
      "image/png": "[encoded data removed]",
      "text/plain": [
       "<Figure size 640x480 with 1 Axes>"
      ]
     },
     "metadata": {},
     "output_type": "display_data"
    }
   ],
   "source": [
    "sns.scatterplot(train['type'])"
   ]
  },
  {
   "attachments": {},
   "cell_type": "markdown",
   "metadata": {},
   "source": [
    "Vemos que habían valores numéricos, lo cual no permite relizar el scatterplot cuando tenemos valores str de categorías. Normalizados los datos a 'NA' podemos visualizar que la variable está en condiciones de ser trasnformada de categóricas a numéricas.\n",
    "Para ello utilizaré el módulo preprocessing de scykitlearn."
   ]
  },
  {
   "cell_type": "code",
   "execution_count": 197,
   "metadata": {},
   "outputs": [],
   "source": [
    "train['type_le'] = le.fit_transform(train['type']) "
   ]
  },
  {
   "attachments": {},
   "cell_type": "markdown",
   "metadata": {},
   "source": [
    "Aquí tengo la tabla de referencias del valor numérico de cada variable."
   ]
  },
  {
   "cell_type": "code",
   "execution_count": 198,
   "metadata": {},
   "outputs": [
    {
     "data": {
      "text/plain": [
       "type_le  type           \n",
       "0        apartment          38474\n",
       "6        house              14031\n",
       "11       townhouse           3376\n",
       "2        condo               2818\n",
       "4        duplex              2463\n",
       "10       manufactured        1282\n",
       "3        cottage/cabin        382\n",
       "5        flat                 198\n",
       "9        loft                 177\n",
       "7        in-law                89\n",
       "8        land                   5\n",
       "1        assisted living        2\n",
       "dtype: int64"
      ]
     },
     "execution_count": 198,
     "metadata": {},
     "output_type": "execute_result"
    }
   ],
   "source": [
    "train.loc[:,['type_le','type']].value_counts()"
   ]
  },
  {
   "attachments": {},
   "cell_type": "markdown",
   "metadata": {},
   "source": [
    "*Variable state*"
   ]
  },
  {
   "cell_type": "code",
   "execution_count": 199,
   "metadata": {},
   "outputs": [
    {
     "data": {
      "text/plain": [
       "<AxesSubplot: >"
      ]
     },
     "execution_count": 199,
     "metadata": {},
     "output_type": "execute_result"
    },
    {
     "data": {
      "image/png": "[encoded data removed]",
      "text/plain": [
       "<Figure size 640x480 with 1 Axes>"
      ]
     },
     "metadata": {},
     "output_type": "display_data"
    }
   ],
   "source": [
    "train['state'].value_counts().plot(kind='bar')"
   ]
  },
  {
   "cell_type": "code",
   "execution_count": 200,
   "metadata": {},
   "outputs": [
    {
     "data": {
      "text/plain": [
       "ca    7042\n",
       "fl    3837\n",
       "tx    3548\n",
       "ny    3256\n",
       "mi    2472\n",
       "oh    2340\n",
       "il    2195\n",
       "or    2183\n",
       "pa    2061\n",
       "co    2003\n",
       "wi    1973\n",
       "nc    1910\n",
       "wa    1694\n",
       "mn    1688\n",
       "ia    1434\n",
       "va    1394\n",
       "ma    1377\n",
       "sc    1230\n",
       "az    1197\n",
       "tn    1191\n",
       "la    1147\n",
       "id    1082\n",
       "in    1050\n",
       "ga     999\n",
       "ct     957\n",
       "nj     932\n",
       "ks     921\n",
       "ak     804\n",
       "md     747\n",
       "ok     746\n",
       "ky     719\n",
       "al     622\n",
       "ar     577\n",
       "nm     576\n",
       "mo     519\n",
       "mt     517\n",
       "ut     475\n",
       "dc     473\n",
       "nh     437\n",
       "ms     434\n",
       "nv     384\n",
       "ri     335\n",
       "ne     325\n",
       "vt     291\n",
       "sd     285\n",
       "me     238\n",
       "nd     220\n",
       "wv     213\n",
       "de     153\n",
       "wy      85\n",
       "hi       9\n",
       "Name: state, dtype: int64"
      ]
     },
     "execution_count": 200,
     "metadata": {},
     "output_type": "execute_result"
    }
   ],
   "source": [
    "train['state'].value_counts()"
   ]
  },
  {
   "attachments": {},
   "cell_type": "markdown",
   "metadata": {},
   "source": [
    "Actualmente USA cuenta con 69 estados, considerando todo su territorio."
   ]
  },
  {
   "cell_type": "code",
   "execution_count": 201,
   "metadata": {},
   "outputs": [
    {
     "data": {
      "text/html": [
       "<div>\n",
       "<style scoped>\n",
       "    .dataframe tbody tr th:only-of-type {\n",
       "        vertical-align: middle;\n",
       "    }\n",
       "\n",
       "    .dataframe tbody tr th {\n",
       "        vertical-align: top;\n",
       "    }\n",
       "\n",
       "    .dataframe thead th {\n",
       "        text-align: right;\n",
       "    }\n",
       "</style>\n",
       "<table border=\"1\" class=\"dataframe\">\n",
       "  <thead>\n",
       "    <tr style=\"text-align: right;\">\n",
       "      <th></th>\n",
       "      <th>Estado</th>\n",
       "      <th>Código</th>\n",
       "    </tr>\n",
       "  </thead>\n",
       "  <tbody>\n",
       "    <tr>\n",
       "      <th>0</th>\n",
       "      <td>Alabama</td>\n",
       "      <td>AL</td>\n",
       "    </tr>\n",
       "    <tr>\n",
       "      <th>1</th>\n",
       "      <td>Alaska</td>\n",
       "      <td>AK</td>\n",
       "    </tr>\n",
       "    <tr>\n",
       "      <th>2</th>\n",
       "      <td>Arizona</td>\n",
       "      <td>AZ</td>\n",
       "    </tr>\n",
       "    <tr>\n",
       "      <th>3</th>\n",
       "      <td>Arkansas</td>\n",
       "      <td>AR</td>\n",
       "    </tr>\n",
       "    <tr>\n",
       "      <th>4</th>\n",
       "      <td>California</td>\n",
       "      <td>CA</td>\n",
       "    </tr>\n",
       "  </tbody>\n",
       "</table>\n",
       "</div>"
      ],
      "text/plain": [
       "       Estado Código\n",
       "0     Alabama     AL\n",
       "1      Alaska     AK\n",
       "2     Arizona     AZ\n",
       "3    Arkansas     AR\n",
       "4  California     CA"
      ]
     },
     "execution_count": 201,
     "metadata": {},
     "output_type": "execute_result"
    }
   ],
   "source": [
    "estados = pd.read_excel('Estados_USA.xlsx')\n",
    "estados.head()"
   ]
  },
  {
   "cell_type": "code",
   "execution_count": 202,
   "metadata": {},
   "outputs": [
    {
     "data": {
      "text/plain": [
       "69"
      ]
     },
     "execution_count": 202,
     "metadata": {},
     "output_type": "execute_result"
    }
   ],
   "source": [
    "estados.shape[0]"
   ]
  },
  {
   "attachments": {},
   "cell_type": "markdown",
   "metadata": {},
   "source": [
    "Verifico que los valores únicos de los códigos de los estados no sean más que los estados que realmente existen."
   ]
  },
  {
   "cell_type": "code",
   "execution_count": 203,
   "metadata": {},
   "outputs": [
    {
     "data": {
      "text/plain": [
       "51"
      ]
     },
     "execution_count": 203,
     "metadata": {},
     "output_type": "execute_result"
    }
   ],
   "source": [
    "train['state'].unique().size"
   ]
  },
  {
   "attachments": {},
   "cell_type": "markdown",
   "metadata": {},
   "source": [
    "Ahora genero dos arrays, uno con los nombres de los códigos de los estados de mi muestra y otro con los códigos de los nombres que realmente existen.\n",
    "Posteriormente verifico que no haya algún nombre que no corresponda."
   ]
  },
  {
   "cell_type": "code",
   "execution_count": 204,
   "metadata": {},
   "outputs": [
    {
     "data": {
      "text/plain": [
       "array(['AK', 'AL', 'AR', 'AZ', 'CA', 'CO', 'CT', 'DC', 'DE', 'FL', 'GA',\n",
       "       'HI', 'IA', 'ID', 'IL', 'IN', 'KS', 'KY', 'LA', 'MA', 'MD', 'ME',\n",
       "       'MI', 'MN', 'MO', 'MS', 'MT', 'NC', 'ND', 'NE', 'NH', 'NJ', 'NM',\n",
       "       'NV', 'NY', 'OH', 'OK', 'OR', 'PA', 'RI', 'SC', 'SD', 'TN', 'TX',\n",
       "       'UT', 'VA', 'VT', 'WA', 'WI', 'WV', 'WY'], dtype=object)"
      ]
     },
     "execution_count": 204,
     "metadata": {},
     "output_type": "execute_result"
    }
   ],
   "source": [
    "a = train['state'].str.upper().sort_values().unique()\n",
    "a"
   ]
  },
  {
   "cell_type": "code",
   "execution_count": 205,
   "metadata": {},
   "outputs": [
    {
     "data": {
      "text/plain": [
       "array(['AA', 'AB', 'AE', 'AK', 'AL', 'AP', 'AR', 'AZ', 'BC', 'CA', 'CO',\n",
       "       'CT', 'Código', 'DC', 'DE', 'FL', 'GA', 'HI', 'IA', 'ID', 'IL',\n",
       "       'IN', 'KS', 'KY', 'LA', 'MA', 'MB', 'MD', 'ME', 'MI', 'MN', 'MO',\n",
       "       'MS', 'MT', 'NB', 'NC', 'ND', 'NE', 'NH', 'NJ', 'NL', 'NM', 'NS',\n",
       "       'NT', 'NU', 'NV', 'NY', 'OH', 'OK', 'ON', 'OR', 'PA', 'PE', 'QC',\n",
       "       'RI', 'SC', 'SD', 'SK', 'TN', 'TX', 'UT', 'VA', 'VT', 'WA', 'WI',\n",
       "       'WV', 'WY', 'YT', nan], dtype=object)"
      ]
     },
     "execution_count": 205,
     "metadata": {},
     "output_type": "execute_result"
    }
   ],
   "source": [
    "b = estados['Código'].sort_values().unique()\n",
    "b"
   ]
  },
  {
   "cell_type": "code",
   "execution_count": 206,
   "metadata": {},
   "outputs": [
    {
     "data": {
      "text/plain": [
       "[]"
      ]
     },
     "execution_count": 206,
     "metadata": {},
     "output_type": "execute_result"
    }
   ],
   "source": [
    "def sublista(a, b):\n",
    "    return [x for x in a if x not in b]\n",
    "\n",
    "sublista(a,b)"
   ]
  },
  {
   "attachments": {},
   "cell_type": "markdown",
   "metadata": {},
   "source": [
    "Vemos que el único valor que no corresponde a la lista de estados es el valor 'NA', que se refiere a los not-available de nuestra muestra. Por lo tanto los valores del campo state son todos correctos."
   ]
  },
  {
   "attachments": {},
   "cell_type": "markdown",
   "metadata": {},
   "source": [
    "*Variable region*"
   ]
  },
  {
   "attachments": {},
   "cell_type": "markdown",
   "metadata": {},
   "source": [
    "A priori al graficar la data en un barplot puedo ver una distribución muy similar a los datos de la columna state, lo cual en principio es una señal en favor de aceptar que las variables son redundantes, por obvias razones."
   ]
  },
  {
   "cell_type": "code",
   "execution_count": 207,
   "metadata": {},
   "outputs": [
    {
     "data": {
      "text/plain": [
       "<AxesSubplot: >"
      ]
     },
     "execution_count": 207,
     "metadata": {},
     "output_type": "execute_result"
    },
    {
     "data": {
      "image/png": "[encoded data removed]",
      "text/plain": [
       "<Figure size 640x480 with 1 Axes>"
      ]
     },
     "metadata": {},
     "output_type": "display_data"
    }
   ],
   "source": [
    "train['region'].value_counts().plot(kind='bar')"
   ]
  },
  {
   "attachments": {},
   "cell_type": "markdown",
   "metadata": {},
   "source": [
    "Si plotemos un gráfico de dispersión de ambas variables, podemos ver que existe una fuerte correlación entre ambas. Las dispersiones que se ven por fuera del claro agrupamiento vertical que se nota a la izquierda del gráfico, se deben a las siguientes razones:\n",
    "* Hay estados que se encuentran en diversas regiones.\n",
    "* Hay regiones que abarcan diversos estados."
   ]
  },
  {
   "cell_type": "code",
   "execution_count": 208,
   "metadata": {},
   "outputs": [
    {
     "data": {
      "text/plain": [
       "<AxesSubplot: xlabel='region', ylabel='state'>"
      ]
     },
     "execution_count": 208,
     "metadata": {},
     "output_type": "execute_result"
    },
    {
     "data": {
      "image/png": "[encoded data removed]",
      "text/plain": [
       "<Figure size 640x480 with 1 Axes>"
      ]
     },
     "metadata": {},
     "output_type": "display_data"
    }
   ],
   "source": [
    "train.plot(kind='scatter', x='region',y='state')"
   ]
  },
  {
   "attachments": {},
   "cell_type": "markdown",
   "metadata": {},
   "source": [
    "Considerando que las variables son claramente redundantes, voy a elegir trabajar con la categoría state. El motivo por el cual hago esto es que la categoríá region es muy extensa, muchas veces arbitraria y de barreras difusas. Por otra parte, considero que la informacíón por estado es más específica y útil para el anáisis y la toma de decisiones."
   ]
  },
  {
   "cell_type": "code",
   "execution_count": 209,
   "metadata": {},
   "outputs": [
    {
     "data": {
      "text/plain": [
       "63297"
      ]
     },
     "execution_count": 209,
     "metadata": {},
     "output_type": "execute_result"
    }
   ],
   "source": [
    "train['region'].size"
   ]
  },
  {
   "attachments": {},
   "cell_type": "markdown",
   "metadata": {},
   "source": [
    "### *TRANSFORMACIÓN DE VARIABLES CATEGÓRICAS A NUMÉRICAS*"
   ]
  },
  {
   "attachments": {},
   "cell_type": "markdown",
   "metadata": {},
   "source": [
    "A continuación procedo a transformar el resto de las variables categóricas a numéricas, tal como hice antes con la variable type. Las variables son:\n",
    "\n",
    "* laundry_options\n",
    "* parking_options\n",
    "* state\n",
    "\n",
    "Luego de cada transformación confirmo la creación de la variable y el valor numérico correspondiente a cada categoría."
   ]
  },
  {
   "cell_type": "code",
   "execution_count": 210,
   "metadata": {},
   "outputs": [],
   "source": [
    "train['laundry_options_le'] = le.fit_transform(train['laundry_options']) "
   ]
  },
  {
   "cell_type": "code",
   "execution_count": 211,
   "metadata": {},
   "outputs": [
    {
     "data": {
      "text/plain": [
       "laundry_options_le  laundry_options   \n",
       "5                   w/d in unit           24070\n",
       "4                   w/d hookups           13560\n",
       "0                   NA                     8274\n",
       "1                   laundry in bldg        7855\n",
       "2                   laundry on site        7793\n",
       "3                   no laundry on site     1745\n",
       "dtype: int64"
      ]
     },
     "execution_count": 211,
     "metadata": {},
     "output_type": "execute_result"
    }
   ],
   "source": [
    "train.loc[:,['laundry_options_le','laundry_options']].value_counts()"
   ]
  },
  {
   "cell_type": "code",
   "execution_count": 212,
   "metadata": {},
   "outputs": [],
   "source": [
    "train['parking_options_le'] = le.fit_transform(train['parking_options']) "
   ]
  },
  {
   "cell_type": "code",
   "execution_count": 213,
   "metadata": {},
   "outputs": [
    {
     "data": {
      "text/plain": [
       "parking_options_le  parking_options   \n",
       "5                   off-street parking    23418\n",
       "0                   NA                    13905\n",
       "1                   attached garage       11841\n",
       "2                   carport                5743\n",
       "3                   detached garage        4012\n",
       "6                   street parking         3932\n",
       "4                   no parking              374\n",
       "7                   valet parking            72\n",
       "dtype: int64"
      ]
     },
     "execution_count": 213,
     "metadata": {},
     "output_type": "execute_result"
    }
   ],
   "source": [
    "train.loc[:,['parking_options_le','parking_options']].value_counts()"
   ]
  },
  {
   "cell_type": "code",
   "execution_count": 214,
   "metadata": {},
   "outputs": [],
   "source": [
    "train['state_le'] = le.fit_transform(train['state']) "
   ]
  },
  {
   "cell_type": "code",
   "execution_count": 215,
   "metadata": {},
   "outputs": [
    {
     "data": {
      "text/plain": [
       "state_le  state\n",
       "4         ca       7042\n",
       "9         fl       3837\n",
       "43        tx       3548\n",
       "34        ny       3256\n",
       "22        mi       2472\n",
       "35        oh       2340\n",
       "14        il       2195\n",
       "37        or       2183\n",
       "38        pa       2061\n",
       "5         co       2003\n",
       "48        wi       1973\n",
       "27        nc       1910\n",
       "47        wa       1694\n",
       "23        mn       1688\n",
       "12        ia       1434\n",
       "45        va       1394\n",
       "19        ma       1377\n",
       "40        sc       1230\n",
       "3         az       1197\n",
       "42        tn       1191\n",
       "18        la       1147\n",
       "13        id       1082\n",
       "15        in       1050\n",
       "10        ga        999\n",
       "6         ct        957\n",
       "31        nj        932\n",
       "16        ks        921\n",
       "0         ak        804\n",
       "20        md        747\n",
       "36        ok        746\n",
       "17        ky        719\n",
       "1         al        622\n",
       "2         ar        577\n",
       "32        nm        576\n",
       "24        mo        519\n",
       "26        mt        517\n",
       "44        ut        475\n",
       "7         dc        473\n",
       "30        nh        437\n",
       "25        ms        434\n",
       "33        nv        384\n",
       "39        ri        335\n",
       "29        ne        325\n",
       "46        vt        291\n",
       "41        sd        285\n",
       "21        me        238\n",
       "28        nd        220\n",
       "49        wv        213\n",
       "8         de        153\n",
       "50        wy         85\n",
       "11        hi          9\n",
       "dtype: int64"
      ]
     },
     "execution_count": 215,
     "metadata": {},
     "output_type": "execute_result"
    }
   ],
   "source": [
    "train.loc[:,['state_le','state']].value_counts()"
   ]
  },
  {
   "attachments": {},
   "cell_type": "markdown",
   "metadata": {},
   "source": [
    "## *ESPECIFICACIÓN DEL MODELO*"
   ]
  },
  {
   "attachments": {},
   "cell_type": "markdown",
   "metadata": {},
   "source": [
    "En este apartado tomaré las decisiones que como científico de datos debo realizar a la hora de optimizar mi módelo. Considero que el trabajo de EDA, ETL y especificación del modelo es una vital del proceso. Pequeñas decisiones en estas etapas del workflow pueden causar estragos en las previsiones posteriores del modelo.\n",
    "\n",
    "Inicialmente voy a prescindir de varias columnas, muchas de las cuales he anticipado en el desarrollo del paper. El objetivo de esta etapa, es preparar un Dataset apropiado para la posterior profundización de la especificación del proceso, en función de los objetivos de los dos modelos solicitados por la inmobiliaria."
   ]
  },
  {
   "attachments": {},
   "cell_type": "markdown",
   "metadata": {},
   "source": [
    "### ELIMINACIÓN DE COLUMNAS"
   ]
  },
  {
   "cell_type": "code",
   "execution_count": 216,
   "metadata": {},
   "outputs": [
    {
     "data": {
      "text/plain": [
       "array(['id', 'url', 'region', 'region_url', 'price', 'type', 'sqfeet',\n",
       "       'beds', 'baths', 'cats_allowed', 'dogs_allowed', 'smoking_allowed',\n",
       "       'wheelchair_access', 'electric_vehicle_charge', 'comes_furnished',\n",
       "       'laundry_options', 'parking_options', 'image_url', 'description',\n",
       "       'lat', 'long', 'state', 'category_price', 'type_le',\n",
       "       'laundry_options_le', 'parking_options_le', 'state_le'],\n",
       "      dtype=object)"
      ]
     },
     "execution_count": 216,
     "metadata": {},
     "output_type": "execute_result"
    }
   ],
   "source": [
    "train.columns.values"
   ]
  },
  {
   "cell_type": "code",
   "execution_count": 217,
   "metadata": {},
   "outputs": [],
   "source": [
    "train.drop(['price','description', 'image_url', 'laundry_options', 'parking_options', 'region', 'region_url', 'state', 'type', 'url'], axis=1, inplace=True)"
   ]
  },
  {
   "cell_type": "code",
   "execution_count": 218,
   "metadata": {},
   "outputs": [
    {
     "data": {
      "text/html": [
       "<div>\n",
       "<style scoped>\n",
       "    .dataframe tbody tr th:only-of-type {\n",
       "        vertical-align: middle;\n",
       "    }\n",
       "\n",
       "    .dataframe tbody tr th {\n",
       "        vertical-align: top;\n",
       "    }\n",
       "\n",
       "    .dataframe thead th {\n",
       "        text-align: right;\n",
       "    }\n",
       "</style>\n",
       "<table border=\"1\" class=\"dataframe\">\n",
       "  <thead>\n",
       "    <tr style=\"text-align: right;\">\n",
       "      <th></th>\n",
       "      <th>id</th>\n",
       "      <th>sqfeet</th>\n",
       "      <th>beds</th>\n",
       "      <th>baths</th>\n",
       "      <th>cats_allowed</th>\n",
       "      <th>dogs_allowed</th>\n",
       "      <th>smoking_allowed</th>\n",
       "      <th>wheelchair_access</th>\n",
       "      <th>electric_vehicle_charge</th>\n",
       "      <th>comes_furnished</th>\n",
       "      <th>lat</th>\n",
       "      <th>long</th>\n",
       "      <th>category_price</th>\n",
       "      <th>type_le</th>\n",
       "      <th>laundry_options_le</th>\n",
       "      <th>parking_options_le</th>\n",
       "      <th>state_le</th>\n",
       "    </tr>\n",
       "  </thead>\n",
       "  <tbody>\n",
       "    <tr>\n",
       "      <th>304267</th>\n",
       "      <td>7026190479</td>\n",
       "      <td>900</td>\n",
       "      <td>2</td>\n",
       "      <td>1.5</td>\n",
       "      <td>1</td>\n",
       "      <td>1</td>\n",
       "      <td>1</td>\n",
       "      <td>0</td>\n",
       "      <td>0</td>\n",
       "      <td>0</td>\n",
       "      <td>22.5962</td>\n",
       "      <td>-109.116</td>\n",
       "      <td>1</td>\n",
       "      <td>11</td>\n",
       "      <td>4</td>\n",
       "      <td>5</td>\n",
       "      <td>2</td>\n",
       "    </tr>\n",
       "    <tr>\n",
       "      <th>169589</th>\n",
       "      <td>7031769262</td>\n",
       "      <td>1294</td>\n",
       "      <td>2</td>\n",
       "      <td>1.5</td>\n",
       "      <td>1</td>\n",
       "      <td>1</td>\n",
       "      <td>1</td>\n",
       "      <td>0</td>\n",
       "      <td>0</td>\n",
       "      <td>0</td>\n",
       "      <td>22.7545</td>\n",
       "      <td>-72.9888</td>\n",
       "      <td>0</td>\n",
       "      <td>11</td>\n",
       "      <td>4</td>\n",
       "      <td>2</td>\n",
       "      <td>3</td>\n",
       "    </tr>\n",
       "    <tr>\n",
       "      <th>344561</th>\n",
       "      <td>7047875167</td>\n",
       "      <td>1100</td>\n",
       "      <td>2</td>\n",
       "      <td>2.0</td>\n",
       "      <td>0</td>\n",
       "      <td>0</td>\n",
       "      <td>0</td>\n",
       "      <td>0</td>\n",
       "      <td>0</td>\n",
       "      <td>0</td>\n",
       "      <td>23.6985</td>\n",
       "      <td>-96.028</td>\n",
       "      <td>0</td>\n",
       "      <td>2</td>\n",
       "      <td>5</td>\n",
       "      <td>1</td>\n",
       "      <td>22</td>\n",
       "    </tr>\n",
       "  </tbody>\n",
       "</table>\n",
       "</div>"
      ],
      "text/plain": [
       "                id sqfeet beds baths cats_allowed dogs_allowed  \\\n",
       "304267  7026190479    900    2   1.5            1            1   \n",
       "169589  7031769262   1294    2   1.5            1            1   \n",
       "344561  7047875167   1100    2   2.0            0            0   \n",
       "\n",
       "       smoking_allowed wheelchair_access electric_vehicle_charge  \\\n",
       "304267               1                 0                       0   \n",
       "169589               1                 0                       0   \n",
       "344561               0                 0                       0   \n",
       "\n",
       "       comes_furnished      lat     long category_price  type_le  \\\n",
       "304267               0  22.5962 -109.116              1       11   \n",
       "169589               0  22.7545 -72.9888              0       11   \n",
       "344561               0  23.6985  -96.028              0        2   \n",
       "\n",
       "        laundry_options_le  parking_options_le  state_le  \n",
       "304267                   4                   5         2  \n",
       "169589                   4                   2         3  \n",
       "344561                   5                   1        22  "
      ]
     },
     "execution_count": 218,
     "metadata": {},
     "output_type": "execute_result"
    }
   ],
   "source": [
    "train.head(3)"
   ]
  },
  {
   "cell_type": "code",
   "execution_count": 219,
   "metadata": {},
   "outputs": [
    {
     "data": {
      "text/plain": [
       "(63297, 17)"
      ]
     },
     "execution_count": 219,
     "metadata": {},
     "output_type": "execute_result"
    }
   ],
   "source": [
    "train.shape"
   ]
  },
  {
   "attachments": {},
   "cell_type": "markdown",
   "metadata": {},
   "source": [
    "Finalizado el trabajo sobre el dataframe, lo guardo en un archivo para su posterior uso en los demás apartados."
   ]
  },
  {
   "cell_type": "code",
   "execution_count": 223,
   "metadata": {},
   "outputs": [],
   "source": [
    "train.to_csv('df_train.csv', index = False)"
   ]
  },
  {
   "cell_type": "code",
   "execution_count": 224,
   "metadata": {},
   "outputs": [
    {
     "name": "stdout",
     "output_type": "stream",
     "text": [
      "<class 'pandas.core.frame.DataFrame'>\n",
      "Int64Index: 63297 entries, 304267 to 345789\n",
      "Data columns (total 17 columns):\n",
      " #   Column                   Non-Null Count  Dtype \n",
      "---  ------                   --------------  ----- \n",
      " 0   id                       63297 non-null  object\n",
      " 1   sqfeet                   63297 non-null  object\n",
      " 2   beds                     63297 non-null  object\n",
      " 3   baths                    63297 non-null  object\n",
      " 4   cats_allowed             63297 non-null  object\n",
      " 5   dogs_allowed             63297 non-null  object\n",
      " 6   smoking_allowed          63297 non-null  object\n",
      " 7   wheelchair_access        63297 non-null  object\n",
      " 8   electric_vehicle_charge  63297 non-null  object\n",
      " 9   comes_furnished          63297 non-null  object\n",
      " 10  lat                      62461 non-null  object\n",
      " 11  long                     62461 non-null  object\n",
      " 12  category_price           63297 non-null  object\n",
      " 13  type_le                  63297 non-null  int32 \n",
      " 14  laundry_options_le       63297 non-null  int32 \n",
      " 15  parking_options_le       63297 non-null  int32 \n",
      " 16  state_le                 63297 non-null  int32 \n",
      "dtypes: int32(4), object(13)\n",
      "memory usage: 7.7+ MB\n"
     ]
    }
   ],
   "source": [
    "train.info()"
   ]
  },
  {
   "attachments": {},
   "cell_type": "markdown",
   "metadata": {},
   "source": [
    "Una vez finalizado el proceso, procedo a aplicar todas las transformaciones relizadas sobre las columnas al dataframe test y lo exporto a un archivo csv para su posterior utilización."
   ]
  },
  {
   "cell_type": "code",
   "execution_count": 225,
   "metadata": {},
   "outputs": [
    {
     "data": {
      "text/plain": [
       "(38498, 21)"
      ]
     },
     "execution_count": 225,
     "metadata": {},
     "output_type": "execute_result"
    }
   ],
   "source": [
    "test.shape"
   ]
  },
  {
   "cell_type": "code",
   "execution_count": 226,
   "metadata": {},
   "outputs": [],
   "source": [
    "test['type_le'] = le.fit_transform(test['type']) \n",
    "test['laundry_options_le'] = le.fit_transform(test['laundry_options'])\n",
    "test['parking_options_le'] = le.fit_transform(test['parking_options'])\n",
    "test['state_le'] = le.fit_transform(test['state']) \n",
    "test.drop(['description', 'image_url', 'laundry_options', 'parking_options', 'region', 'region_url', 'state', 'type', 'url'], axis=1, inplace=True)"
   ]
  },
  {
   "cell_type": "code",
   "execution_count": 227,
   "metadata": {},
   "outputs": [
    {
     "data": {
      "text/plain": [
       "(38498, 16)"
      ]
     },
     "execution_count": 227,
     "metadata": {},
     "output_type": "execute_result"
    }
   ],
   "source": [
    "test.shape"
   ]
  },
  {
   "cell_type": "code",
   "execution_count": 228,
   "metadata": {},
   "outputs": [],
   "source": [
    "test.to_csv('V1_df_test.csv', index = False)"
   ]
  }
 ],
 "metadata": {
  "kernelspec": {
   "display_name": "Python 3",
   "language": "python",
   "name": "python3"
  },
  "language_info": {
   "codemirror_mode": {
    "name": "ipython",
    "version": 3
   },
   "file_extension": ".py",
   "mimetype": "text/x-python",
   "name": "python",
   "nbconvert_exporter": "python",
   "pygments_lexer": "ipython3",
   "version": "3.11.1 (tags/v3.11.1:a7a450f, Dec  6 2022, 19:58:39) [MSC v.1934 64 bit (AMD64)]"
  },
  "orig_nbformat": 4,
  "vscode": {
   "interpreter": {
    "hash": "147c7b54acad9169917f86b29ae09e91b96d4bf10eb9211ab64b1f441523e498"
   }
  }
 },
 "nbformat": 4,
 "nbformat_minor": 2
}
